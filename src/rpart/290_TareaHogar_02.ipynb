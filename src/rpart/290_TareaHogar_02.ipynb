{
  "nbformat": 4,
  "nbformat_minor": 0,
  "metadata": {
    "colab": {
      "provenance": [],
      "include_colab_link": true
    },
    "kernelspec": {
      "name": "ir",
      "display_name": "R"
    },
    "language_info": {
      "name": "R"
    }
  },
  "cells": [
    {
      "cell_type": "markdown",
      "metadata": {
        "id": "view-in-github",
        "colab_type": "text"
      },
      "source": [
        "<a href=\"https://colab.research.google.com/github/nicohorn/labo2025v/blob/main/src/rpart/290_TareaHogar_02.ipynb\" target=\"_parent\"><img src=\"https://colab.research.google.com/assets/colab-badge.svg\" alt=\"Open In Colab\"/></a>"
      ]
    },
    {
      "cell_type": "markdown",
      "source": [
        "# Tarea para el Hogar 02"
      ],
      "metadata": {
        "id": "F3r8aa3pBigj"
      }
    },
    {
      "cell_type": "markdown",
      "source": [
        "Esta Tarea para el Hogar 02 se entrega el final de la segunda clase\n",
        "<br> se espera de usted que intente avanzar con los desafios propuestos y que los traiga terminados para la Clase 03, ya que se analizarán los resultados"
      ],
      "metadata": {
        "id": "nBm4ktHUBmZt"
      }
    },
    {
      "cell_type": "markdown",
      "source": [
        "##  1. Ensembles de Modelos"
      ],
      "metadata": {
        "id": "TK-M04ElCESC"
      }
    },
    {
      "cell_type": "markdown",
      "source": [
        "Vea el siguiente video [BBC - The Code - The Wisdom of the Crowd](https://www.youtube.com/watch?v=iOucwX7Z1HU)    ( 5 min)\n"
      ],
      "metadata": {
        "id": "biPYxgobCOSS"
      }
    },
    {
      "cell_type": "markdown",
      "source": [
        "Lea los siguientes artículos\n",
        "\n",
        "\n",
        "*   [The Wisdom of Crowds (Vox Populi) by Francis Galton](https://www.all-about-psychology.com/the-wisdom-of-crowds.html)  (10 min)\n",
        "*   [A Gentle Introduction to Ensemble Learning](https://machinelearningmastery.com/what-is-ensemble-learning/)  (10 min)\n",
        "\n"
      ],
      "metadata": {
        "id": "FBszBRyNCcjp"
      }
    },
    {
      "cell_type": "markdown",
      "source": [
        "\n",
        "\n",
        "---\n",
        "\n"
      ],
      "metadata": {
        "id": "x7SebtV2lpHQ"
      }
    },
    {
      "cell_type": "markdown",
      "source": [
        "##  2.  Zero2Hero   primera parte\n",
        "Se han lanzado los primeros fascículos coleccionables llamados \"from Zero to Hero\" que muy detalladamente, paso a paso enseñan todo lo necesario de R para entender los scripts oficiales de la asignatura.\n",
        "Están en el repositorio oficial de la asignatura, carpeta  **src/zero2hero**"
      ],
      "metadata": {
        "id": "NQcY8u2MDSLT"
      }
    },
    {
      "cell_type": "markdown",
      "source": [
        "\n",
        "\n",
        "---\n",
        "\n"
      ],
      "metadata": {
        "id": "GcO0OSiIEAGy"
      }
    },
    {
      "cell_type": "markdown",
      "source": [
        "## 3.  Grid Search"
      ],
      "metadata": {
        "id": "6MStcyn0EBdT"
      }
    },
    {
      "cell_type": "markdown",
      "source": [
        "Busque en internet el precido significado de los hiperparámetros de la librería **rpart**  que está implementando el algoritmo **CART**  Classification and Regression Trees  propuesto en el año 1984 por Leo Brieman:\n",
        "\n",
        "*   cp\n",
        "*   maxdepth\n",
        "*   minsplit\n",
        "*   minbucket\n",
        "\n",
        "Entienda que valores es razonable tome cada hiperparámetro,  en particular profundice en el hiperparámetro  **cp**  y la posibilidad que tome valores negativos.  Es válido consultar a su amigo de *capacidades especiales*  ChatGPT\n"
      ],
      "metadata": {
        "id": "gM8RKXDgEIY0"
      }
    },
    {
      "cell_type": "markdown",
      "source": [
        "En las siguientes celdas a un notebook incompleto, un esqueleto de codigo brindado a modo de facilitarle la tarea de codeo y permitir que su valiosa cognición se concentre temas conceptuales de Ciencia de Datos\n",
        "\n",
        "Modifiquelo agregando loops para que recorra TODOS los hiperparámetros de rpart  < cp, maxdepth, minsplit, minbucket >, y luego póngalo a correr. Recuerde cambiar por SU semilla\n",
        "Tenga muy presente la granularidad que eligirá para cada hiperparámetro."
      ],
      "metadata": {
        "id": "_k7eT3HIFy9y"
      }
    },
    {
      "cell_type": "markdown",
      "source": [
        "### Seteo del ambiente en Google Colab"
      ],
      "metadata": {
        "id": "kmLygy1TYPfg"
      }
    },
    {
      "cell_type": "markdown",
      "source": [
        "Esta parte se debe correr con el runtime en Python3\n",
        "<br>Ir al menu, Runtime -> Change Runtime Tipe -> Runtime type ->  **Python 3**"
      ],
      "metadata": {
        "id": "OikOm5K2YU3X"
      }
    },
    {
      "cell_type": "markdown",
      "source": [
        "Conectar la virtual machine donde esta corriendo Google Colab con el  Google Drive, para poder tener persistencia de archivos"
      ],
      "metadata": {
        "id": "4fmV5LyZdFyI"
      }
    },
    {
      "cell_type": "code",
      "source": [
        "# primero establecer el Runtime de Python 3\n",
        "from google.colab import drive\n",
        "drive.mount('/content/.drive')"
      ],
      "metadata": {
        "id": "ilEZ-bE2VybW",
        "colab": {
          "base_uri": "https://localhost:8080/"
        },
        "outputId": "49872f69-144c-4c6a-8888-37064ad86e1e"
      },
      "execution_count": 1,
      "outputs": [
        {
          "output_type": "stream",
          "name": "stdout",
          "text": [
            "Mounted at /content/.drive\n"
          ]
        }
      ]
    },
    {
      "cell_type": "markdown",
      "source": [
        "Para correr la siguiente celda es fundamental en Arranque en Frio haber copiado el archivo kaggle.json al Google Drive, en la carpeta indicada en el instructivo\n",
        "\n",
        "<br>los siguientes comando estan en shell script de Linux\n",
        "*   Crear las carpetas en el Google Drive\n",
        "*   \"instalar\" el archivo kaggle.json desde el Google Drive a la virtual machine para que pueda ser utilizado por la libreria  kaggle de Python\n",
        "*   Bajar el  **dataset_pequeno**  al  Google Drive  y tambien al disco local de la virtual machine que esta corriendo Google Colab\n",
        "\n"
      ],
      "metadata": {
        "id": "ilaKtqWldeWg"
      }
    },
    {
      "cell_type": "code",
      "source": [
        "%%shell\n",
        "\n",
        "mkdir -p \"/content/.drive/My Drive/labo1\"\n",
        "mkdir -p \"/content/buckets\"\n",
        "ln -s \"/content/.drive/My Drive/labo1\" /content/buckets/b1\n",
        "\n",
        "mkdir -p ~/.kaggle\n",
        "cp /content/buckets/b1/kaggle/kaggle.json  ~/.kaggle\n",
        "chmod 600 ~/.kaggle/kaggle.json\n",
        "\n",
        "\n",
        "mkdir -p /content/buckets/b1/exp\n",
        "mkdir -p /content/buckets/b1/datasets\n",
        "mkdir -p /content/datasets\n",
        "\n",
        "\n",
        "\n",
        "archivo_origen=\"https://storage.googleapis.com/open-courses/austral2025-af91/dataset_pequeno.csv\"\n",
        "archivo_destino=\"/content/datasets/dataset_pequeno.csv\"\n",
        "archivo_destino_bucket=\"/content/buckets/b1/datasets/dataset_pequeno.csv\"\n",
        "\n",
        "if ! test -f $archivo_destino_bucket; then\n",
        "  wget  $archivo_origen  -O $archivo_destino_bucket\n",
        "fi\n",
        "\n",
        "\n",
        "if ! test -f $archivo_destino; then\n",
        "  cp  $archivo_destino_bucket  $archivo_destino\n",
        "fi\n",
        "\n"
      ],
      "metadata": {
        "id": "W8dQFI5QYCFa",
        "colab": {
          "base_uri": "https://localhost:8080/"
        },
        "outputId": "79a5d766-6fad-4109-c401-7ad4dce41aba"
      },
      "execution_count": 2,
      "outputs": [
        {
          "output_type": "execute_result",
          "data": {
            "text/plain": []
          },
          "metadata": {},
          "execution_count": 2
        }
      ]
    },
    {
      "cell_type": "markdown",
      "source": [
        "limpio el ambiente de R"
      ],
      "metadata": {
        "id": "SE94XRhWsxkX"
      }
    },
    {
      "cell_type": "code",
      "source": [
        "# limpio la memoria\n",
        "rm(list=ls(all.names=TRUE)) # remove all objects\n",
        "gc(full=TRUE, verbose=FALSE) # garbage collection"
      ],
      "metadata": {
        "id": "oZG_4br6szlT",
        "colab": {
          "base_uri": "https://localhost:8080/",
          "height": 129
        },
        "outputId": "a5948aab-8ca9-4abf-fe53-49d3a2239b20"
      },
      "execution_count": 28,
      "outputs": [
        {
          "output_type": "display_data",
          "data": {
            "text/html": [
              "<table class=\"dataframe\">\n",
              "<caption>A matrix: 2 × 6 of type dbl</caption>\n",
              "<thead>\n",
              "\t<tr><th></th><th scope=col>used</th><th scope=col>(Mb)</th><th scope=col>gc trigger</th><th scope=col>(Mb)</th><th scope=col>max used</th><th scope=col>(Mb)</th></tr>\n",
              "</thead>\n",
              "<tbody>\n",
              "\t<tr><th scope=row>Ncells</th><td> 831890</td><td>44.5</td><td> 1454482</td><td> 77.7</td><td>  1454482</td><td> 77.7</td></tr>\n",
              "\t<tr><th scope=row>Vcells</th><td>1567549</td><td>12.0</td><td>94652197</td><td>722.2</td><td>108837180</td><td>830.4</td></tr>\n",
              "</tbody>\n",
              "</table>\n"
            ],
            "text/markdown": "\nA matrix: 2 × 6 of type dbl\n\n| <!--/--> | used | (Mb) | gc trigger | (Mb) | max used | (Mb) |\n|---|---|---|---|---|---|---|\n| Ncells |  831890 | 44.5 |  1454482 |  77.7 |   1454482 |  77.7 |\n| Vcells | 1567549 | 12.0 | 94652197 | 722.2 | 108837180 | 830.4 |\n\n",
            "text/latex": "A matrix: 2 × 6 of type dbl\n\\begin{tabular}{r|llllll}\n  & used & (Mb) & gc trigger & (Mb) & max used & (Mb)\\\\\n\\hline\n\tNcells &  831890 & 44.5 &  1454482 &  77.7 &   1454482 &  77.7\\\\\n\tVcells & 1567549 & 12.0 & 94652197 & 722.2 & 108837180 & 830.4\\\\\n\\end{tabular}\n",
            "text/plain": [
              "       used    (Mb) gc trigger (Mb)  max used  (Mb) \n",
              "Ncells  831890 44.5  1454482    77.7   1454482  77.7\n",
              "Vcells 1567549 12.0 94652197   722.2 108837180 830.4"
            ]
          },
          "metadata": {}
        }
      ]
    },
    {
      "cell_type": "code",
      "source": [
        "# cargo las librerias que necesito\n",
        "require(\"data.table\")\n",
        "require(\"rpart\")\n",
        "require(\"parallel\")\n",
        "if (!require(\"primes\")) install.packages(\"primes\")\n",
        "require(\"primes\")"
      ],
      "metadata": {
        "id": "JO-12d7YHkWy"
      },
      "execution_count": 29,
      "outputs": []
    },
    {
      "cell_type": "markdown",
      "source": [
        "Aqui debe poner SU semiila primigenia"
      ],
      "metadata": {
        "id": "0MclPEJ6Q8Bp"
      }
    },
    {
      "cell_type": "code",
      "source": [
        "PARAM <- list()\n",
        "# reemplazar por su primer semilla\n",
        "PARAM$semilla_primigenia <- 153929\n",
        "PARAM$qsemillas <- 1\n",
        "\n",
        "PARAM$training_pct <- 70L  # entre  1L y 99L\n",
        "\n",
        "# elegir SU dataset comentando/ descomentando\n",
        "PARAM$dataset_nom <- \"~/datasets/dataset_pequeno.csv\""
      ],
      "metadata": {
        "id": "Vt5fC6bWHu5r"
      },
      "execution_count": 30,
      "outputs": []
    },
    {
      "cell_type": "code",
      "source": [
        "# particionar agrega una columna llamada fold a un dataset\n",
        "#  que consiste en una particion estratificada segun agrupa\n",
        "# particionar( data=dataset, division=c(70,30), agrupa=clase_ternaria, seed=semilla)\n",
        "#   crea una particion 70, 30\n",
        "\n",
        "particionar <- function(data, division, agrupa = \"\", campo = \"fold\", start = 1, seed = NA) {\n",
        "  if (!is.na(seed)) set.seed(seed)\n",
        "\n",
        "  bloque <- unlist(mapply(function(x, y) {\n",
        "    rep(y, x)\n",
        "  }, division, seq(from = start, length.out = length(division))))\n",
        "\n",
        "  data[, (campo) := sample(rep(bloque, ceiling(.N / length(bloque))))[1:.N],\n",
        "    by = agrupa\n",
        "  ]\n",
        "}\n"
      ],
      "metadata": {
        "id": "Z1dchsrWH4MD"
      },
      "execution_count": 31,
      "outputs": []
    },
    {
      "cell_type": "code",
      "source": [
        "ArbolEstimarGanancia <- function(semilla, training_pct, param_basicos) {\n",
        "  # particiono estratificadamente el dataset\n",
        "  particionar(dataset,\n",
        "    division = c(training_pct, 100L -training_pct),\n",
        "    agrupa = \"clase_ternaria\",\n",
        "    seed = semilla # aqui se usa SU semilla\n",
        "  )\n",
        "\n",
        "  # genero el modelo\n",
        "  # predecir clase_ternaria a partir del resto\n",
        "  modelo <- rpart(\"clase_ternaria ~ .\",\n",
        "    data = dataset[fold == 1], # fold==1  es training,  el 70% de los datos\n",
        "    xval = 0,\n",
        "    control = param_basicos\n",
        "  ) # aqui van los parametros del arbol\n",
        "\n",
        "  # aplico el modelo a los datos de testing\n",
        "  prediccion <- predict(modelo, # el modelo que genere recien\n",
        "    dataset[fold == 2], # fold==2  es testing, el 30% de los datos\n",
        "    type = \"prob\"\n",
        "  ) # type= \"prob\"  es que devuelva la probabilidad\n",
        "\n",
        "  # prediccion es una matriz con TRES columnas,\n",
        "  #  llamadas \"BAJA+1\", \"BAJA+2\"  y \"CONTINUA\"\n",
        "  # cada columna es el vector de probabilidades\n",
        "\n",
        "\n",
        "  # calculo la ganancia en testing  qu es fold==2\n",
        "  ganancia_test <- dataset[\n",
        "    fold == 2,\n",
        "    sum(ifelse(prediccion[, \"BAJA+2\"] > 0.025,\n",
        "      ifelse(clase_ternaria == \"BAJA+2\", 117000, -3000),\n",
        "      0\n",
        "    ))\n",
        "  ]\n",
        "\n",
        "  # escalo la ganancia como si fuera todo el dataset\n",
        "  ganancia_test_normalizada <- ganancia_test / (( 100 - PARAM$training_pct ) / 100 )\n",
        "\n",
        "  return(\n",
        "    c( list(\"semilla\" = semilla),\n",
        "      param_basicos,\n",
        "      list( \"ganancia_test\" = ganancia_test_normalizada )\n",
        "     )\n",
        "  )\n",
        "}\n"
      ],
      "metadata": {
        "id": "xsHwS1CzIA70"
      },
      "execution_count": 32,
      "outputs": []
    },
    {
      "cell_type": "code",
      "source": [
        "ArbolesMontecarlo <- function(semillas, param_basicos) {\n",
        "\n",
        "  # la funcion mcmapply  llama a la funcion ArbolEstimarGanancia\n",
        "  #  tantas veces como valores tenga el vector  PARAM$semillas\n",
        "  salida <- mcmapply(ArbolEstimarGanancia,\n",
        "    semillas, # paso el vector de semillas\n",
        "    MoreArgs = list(PARAM$training_pct, param_basicos), # aqui paso el segundo parametro\n",
        "    SIMPLIFY = FALSE,\n",
        "    mc.cores = detectCores()\n",
        "  )\n",
        "\n",
        "  return(salida)\n",
        "}\n"
      ],
      "metadata": {
        "id": "BvBVOuhqIEjD"
      },
      "execution_count": 33,
      "outputs": []
    },
    {
      "cell_type": "code",
      "source": [
        "# carpeta de trabajo\n",
        "# por fabor cambiar numero de experimento si se cambia el loop principal\n",
        "setwd(\"/content/buckets/b1/exp\")\n",
        "experimento <- \"HT2900\"\n",
        "dir.create(experimento, showWarnings=FALSE)\n",
        "setwd( paste0(\"/content/buckets/b1/exp/\", experimento ))"
      ],
      "metadata": {
        "id": "L-DOGHOjIG7G"
      },
      "execution_count": 34,
      "outputs": []
    },
    {
      "cell_type": "code",
      "source": [
        "# lectura del dataset\n",
        "dataset <- fread(\"/content/datasets/dataset_pequeno.csv\")\n",
        "\n",
        "# trabajo solo con los datos con clase, es decir 202107\n",
        "dataset <- dataset[clase_ternaria != \"\"]"
      ],
      "metadata": {
        "id": "NM-mrLWcIPo6"
      },
      "execution_count": 35,
      "outputs": []
    },
    {
      "cell_type": "code",
      "source": [
        "\n",
        "# genero numeros primos\n",
        "primos <- generate_primes(min = 100000, max = 1000000)\n",
        "set.seed(PARAM$semilla_primigenia) # inicializo\n",
        "# me quedo con PARAM$qsemillas   semillas\n",
        "PARAM$semillas <- sample(primos, PARAM$qsemillas )\n"
      ],
      "metadata": {
        "id": "tSlY0EcgIWdi"
      },
      "execution_count": 36,
      "outputs": []
    },
    {
      "cell_type": "code",
      "source": [
        "# genero la data.table donde van los resultados detallados del Grid Search\n",
        "# un registro para cada combinacion de < semilla, parametros >\n",
        "\n",
        "if(file.exists(\"gridsearch_detalle.txt\")){\n",
        "  tb_grid_search_detalle <- fread(\"gridsearch_detalle.txt\")\n",
        "}else{\n",
        "  tb_grid_search_detalle <- data.table(\n",
        "    semilla = integer(),\n",
        "    cp = numeric(),\n",
        "    maxdepth = integer(),\n",
        "   minsplit = integer(),\n",
        "    minbucket = integer(),\n",
        "    ganancia_test = numeric()\n",
        "  )\n",
        "}\n",
        "\n",
        "nrow( tb_grid_search_detalle )"
      ],
      "metadata": {
        "id": "xxCAwIKyIaTl",
        "colab": {
          "base_uri": "https://localhost:8080/",
          "height": 34
        },
        "outputId": "d58090fc-f9e6-4995-e2d3-9a6e9c6531e2"
      },
      "execution_count": 37,
      "outputs": [
        {
          "output_type": "display_data",
          "data": {
            "text/html": [
              "0"
            ],
            "text/markdown": "0",
            "text/latex": "0",
            "text/plain": [
              "[1] 0"
            ]
          },
          "metadata": {}
        }
      ]
    },
    {
      "cell_type": "markdown",
      "source": [
        "Esta es la parte del código que usted debe expandir a TODOS los hiperparámetros de rpart,\n",
        "<br>ya que actualmente apenas recorre  maxdepth y  minsplit  dejando fijos  cp=-0.5  y minbucket=5"
      ],
      "metadata": {
        "id": "eAuGBNL8IkOD"
      }
    },
    {
      "cell_type": "code",
      "source": [
        "# Reduje cantidad de valores para encontrar zonas prometedoras\n",
        "\n",
        "iter <- 0\n",
        "tiempo_inicio <- Sys.time()\n",
        "\n",
        "# Valores REDUCIDOS para exploración\n",
        "valores_cp <- c(-1, -0.5, 0, 0.01, 0.1)  # 7 -> 5 valores\n",
        "valores_maxdepth <- c(4, 8, 12)  # 6 -> 3 valores\n",
        "valores_minsplit <- c(1000, 400, 100, 20)  # 9 -> 4 valores\n",
        "valores_minbucket <- c(5, 10, 30)  # 7 -> 3 valores\n",
        "\n",
        "# Total: 5 × 3 × 4 × 3 = 180 combinaciones (vs 2646 combinaciones iniciales)\n",
        "# Tiempo estimado: ~2 horas (vs 29 horas iniciales)\n",
        "\n",
        "total_iteraciones <- length(valores_cp) * length(valores_maxdepth) *\n",
        "                     length(valores_minsplit) * length(valores_minbucket)\n",
        "\n",
        "cat(\"Total de combinaciones a explorar:\", total_iteraciones, \"\\n\")\n",
        "cat(\"Semillas por combinación:\", PARAM$qsemillas, \"\\n\")\n",
        "cat(\"Tiempo estimado: ~\", round(total_iteraciones * 40 / 60, 1), \"minutos\\n\\n\")\n",
        "\n",
        "for (vcp in valores_cp) {\n",
        "  for (vmax_depth in valores_maxdepth) {\n",
        "    for (vmin_split in valores_minsplit) {\n",
        "      for (vmin_bucket in valores_minbucket) {\n",
        "\n",
        "        iter <- iter + 1\n",
        "\n",
        "        if(iter * PARAM$qsemillas < nrow(tb_grid_search_detalle) + 1) {\n",
        "          cat(\"Iter\", iter, \"- Ya procesada\\n\")\n",
        "          next\n",
        "        }\n",
        "\n",
        "        tiempo_iter_inicio <- Sys.time()\n",
        "\n",
        "        param_basicos <- list(\n",
        "          \"cp\" = vcp,\n",
        "          \"maxdepth\" = vmax_depth,\n",
        "          \"minsplit\" = vmin_split,\n",
        "          \"minbucket\" = vmin_bucket\n",
        "        )\n",
        "\n",
        "        ganancias <- ArbolesMontecarlo(PARAM$semillas, param_basicos)\n",
        "\n",
        "        tb_grid_search_detalle <- rbindlist(\n",
        "          list(tb_grid_search_detalle,\n",
        "               rbindlist(ganancias))\n",
        "        )\n",
        "\n",
        "        tiempo_iter_fin <- Sys.time()\n",
        "        duracion_iter <- as.numeric(difftime(tiempo_iter_fin, tiempo_iter_inicio, units = \"secs\"))\n",
        "        tiempo_transcurrido <- as.numeric(difftime(tiempo_iter_fin, tiempo_inicio, units = \"mins\"))\n",
        "        tiempo_promedio_iter <- tiempo_transcurrido / iter\n",
        "        iteraciones_restantes <- total_iteraciones - iter\n",
        "        tiempo_estimado_restante <- tiempo_promedio_iter * iteraciones_restantes\n",
        "\n",
        "        cat(sprintf(\"Iter %d/%d (%.1f%%) | cp=%.2f md=%d ms=%d mb=%d | \",\n",
        "                    iter, total_iteraciones, (iter/total_iteraciones)*100,\n",
        "                    vcp, vmax_depth, vmin_split, vmin_bucket))\n",
        "        cat(sprintf(\"Dur: %.1fs | Restante: %.1fmin\\n\",\n",
        "                    duracion_iter, tiempo_estimado_restante))\n",
        "        flush.console()\n",
        "      }\n",
        "    }\n",
        "\n",
        "    cat(\"\\n>>> Guardando checkpoint en maxdepth =\", vmax_depth, \"<<<\\n\\n\")\n",
        "    fwrite(tb_grid_search_detalle,\n",
        "           file = \"gridsearch_detalle.txt\",\n",
        "           sep = \"\\t\")\n",
        "  }\n",
        "}\n",
        "\n",
        "tiempo_total <- as.numeric(difftime(Sys.time(), tiempo_inicio, units = \"mins\"))\n",
        "cat(\"\\n=================================================\\n\")\n",
        "cat(\"Exploración completada\\n\")\n",
        "cat(\"Tiempo total:\", sprintf(\"%.1f minutos\\n\", tiempo_total))\n",
        "cat(\"=================================================\\n\")\n"
      ],
      "metadata": {
        "id": "ipLHm3STIfmb",
        "colab": {
          "base_uri": "https://localhost:8080/"
        },
        "outputId": "48cb0edb-4434-43f8-9fdd-781c1ad8319a"
      },
      "execution_count": 38,
      "outputs": [
        {
          "output_type": "stream",
          "name": "stdout",
          "text": [
            "Total de combinaciones a explorar: 180 \n",
            "Semillas por combinación: 1 \n",
            "Tiempo estimado: ~ 120 minutos\n",
            "\n",
            "Iter 1/180 (0.6%) | cp=-1.00 md=4 ms=1000 mb=5 | Dur: 38.2s | Restante: 114.3min\n",
            "Iter 2/180 (1.1%) | cp=-1.00 md=4 ms=1000 mb=10 | Dur: 39.4s | Restante: 115.3min\n",
            "Iter 3/180 (1.7%) | cp=-1.00 md=4 ms=1000 mb=30 | Dur: 38.5s | Restante: 114.3min\n",
            "Iter 4/180 (2.2%) | cp=-1.00 md=4 ms=400 mb=5 | Dur: 38.9s | Restante: 113.8min\n",
            "Iter 5/180 (2.8%) | cp=-1.00 md=4 ms=400 mb=10 | Dur: 39.2s | Restante: 113.4min\n",
            "Iter 6/180 (3.3%) | cp=-1.00 md=4 ms=400 mb=30 | Dur: 39.4s | Restante: 113.0min\n",
            "Iter 7/180 (3.9%) | cp=-1.00 md=4 ms=100 mb=5 | Dur: 41.3s | Restante: 113.3min\n",
            "Iter 8/180 (4.4%) | cp=-1.00 md=4 ms=100 mb=10 | Dur: 39.1s | Restante: 112.6min\n",
            "Iter 9/180 (5.0%) | cp=-1.00 md=4 ms=100 mb=30 | Dur: 38.2s | Restante: 111.6min\n",
            "Iter 10/180 (5.6%) | cp=-1.00 md=4 ms=20 mb=5 | Dur: 41.3s | Restante: 111.6min\n",
            "Iter 11/180 (6.1%) | cp=-1.00 md=4 ms=20 mb=10 | Dur: 38.1s | Restante: 110.6min\n",
            "Iter 12/180 (6.7%) | cp=-1.00 md=4 ms=20 mb=30 | Dur: 41.4s | Restante: 110.4min\n",
            "\n",
            ">>> Guardando checkpoint en maxdepth = 4 <<<\n",
            "\n",
            "Iter 13/180 (7.2%) | cp=-1.00 md=8 ms=1000 mb=5 | Dur: 79.3s | Restante: 118.3min\n",
            "Iter 14/180 (7.8%) | cp=-1.00 md=8 ms=1000 mb=10 | Dur: 83.2s | Restante: 125.6min\n",
            "Iter 15/180 (8.3%) | cp=-1.00 md=8 ms=1000 mb=30 | Dur: 78.4s | Restante: 130.9min\n",
            "Iter 16/180 (8.9%) | cp=-1.00 md=8 ms=400 mb=5 | Dur: 81.6s | Restante: 136.0min\n",
            "Iter 17/180 (9.4%) | cp=-1.00 md=8 ms=400 mb=10 | Dur: 85.2s | Restante: 140.8min\n",
            "Iter 18/180 (10.0%) | cp=-1.00 md=8 ms=400 mb=30 | Dur: 85.6s | Restante: 145.0min\n",
            "Iter 19/180 (10.6%) | cp=-1.00 md=8 ms=100 mb=5 | Dur: 85.1s | Restante: 148.6min\n",
            "Iter 20/180 (11.1%) | cp=-1.00 md=8 ms=100 mb=10 | Dur: 79.9s | Restante: 150.9min\n",
            "Iter 21/180 (11.7%) | cp=-1.00 md=8 ms=100 mb=30 | Dur: 82.3s | Restante: 153.2min\n",
            "Iter 22/180 (12.2%) | cp=-1.00 md=8 ms=20 mb=5 | Dur: 80.2s | Restante: 154.9min\n",
            "Iter 23/180 (12.8%) | cp=-1.00 md=8 ms=20 mb=10 | Dur: 82.0s | Restante: 156.6min\n",
            "Iter 24/180 (13.3%) | cp=-1.00 md=8 ms=20 mb=30 | Dur: 83.2s | Restante: 158.1min\n",
            "\n",
            ">>> Guardando checkpoint en maxdepth = 8 <<<\n",
            "\n",
            "Iter 25/180 (13.9%) | cp=-1.00 md=12 ms=1000 mb=5 | Dur: 120.5s | Restante: 163.3min\n",
            "Iter 26/180 (14.4%) | cp=-1.00 md=12 ms=1000 mb=10 | Dur: 116.8s | Restante: 167.5min\n",
            "Iter 27/180 (15.0%) | cp=-1.00 md=12 ms=1000 mb=30 | Dur: 115.3s | Restante: 171.1min\n",
            "Iter 28/180 (15.6%) | cp=-1.00 md=12 ms=400 mb=5 | Dur: 120.7s | Restante: 174.9min\n",
            "Iter 29/180 (16.1%) | cp=-1.00 md=12 ms=400 mb=10 | Dur: 118.5s | Restante: 178.0min\n",
            "Iter 30/180 (16.7%) | cp=-1.00 md=12 ms=400 mb=30 | Dur: 117.1s | Restante: 180.7min\n",
            "Iter 31/180 (17.2%) | cp=-1.00 md=12 ms=100 mb=5 | Dur: 115.5s | Restante: 183.0min\n",
            "Iter 32/180 (17.8%) | cp=-1.00 md=12 ms=100 mb=10 | Dur: 118.8s | Restante: 185.2min\n",
            "Iter 33/180 (18.3%) | cp=-1.00 md=12 ms=100 mb=30 | Dur: 122.2s | Restante: 187.5min\n",
            "Iter 34/180 (18.9%) | cp=-1.00 md=12 ms=20 mb=5 | Dur: 124.5s | Restante: 189.6min\n",
            "Iter 35/180 (19.4%) | cp=-1.00 md=12 ms=20 mb=10 | Dur: 132.4s | Restante: 192.1min\n",
            "Iter 36/180 (20.0%) | cp=-1.00 md=12 ms=20 mb=30 | Dur: 126.1s | Restante: 193.9min\n",
            "\n",
            ">>> Guardando checkpoint en maxdepth = 12 <<<\n",
            "\n",
            "Iter 37/180 (20.6%) | cp=-0.50 md=4 ms=1000 mb=5 | Dur: 39.8s | Restante: 189.9min\n",
            "Iter 38/180 (21.1%) | cp=-0.50 md=4 ms=1000 mb=10 | Dur: 37.1s | Restante: 185.9min\n",
            "Iter 39/180 (21.7%) | cp=-0.50 md=4 ms=1000 mb=30 | Dur: 39.6s | Restante: 182.2min\n",
            "Iter 40/180 (22.2%) | cp=-0.50 md=4 ms=400 mb=5 | Dur: 39.4s | Restante: 178.7min\n",
            "Iter 41/180 (22.8%) | cp=-0.50 md=4 ms=400 mb=10 | Dur: 39.6s | Restante: 175.4min\n",
            "Iter 42/180 (23.3%) | cp=-0.50 md=4 ms=400 mb=30 | Dur: 39.5s | Restante: 172.1min\n",
            "Iter 43/180 (23.9%) | cp=-0.50 md=4 ms=100 mb=5 | Dur: 38.6s | Restante: 168.9min\n",
            "Iter 44/180 (24.4%) | cp=-0.50 md=4 ms=100 mb=10 | Dur: 39.1s | Restante: 165.9min\n",
            "Iter 45/180 (25.0%) | cp=-0.50 md=4 ms=100 mb=30 | Dur: 39.6s | Restante: 163.0min\n",
            "Iter 46/180 (25.6%) | cp=-0.50 md=4 ms=20 mb=5 | Dur: 39.4s | Restante: 160.2min\n",
            "Iter 47/180 (26.1%) | cp=-0.50 md=4 ms=20 mb=10 | Dur: 38.8s | Restante: 157.5min\n",
            "Iter 48/180 (26.7%) | cp=-0.50 md=4 ms=20 mb=30 | Dur: 39.2s | Restante: 154.8min\n",
            "\n",
            ">>> Guardando checkpoint en maxdepth = 4 <<<\n",
            "\n",
            "Iter 49/180 (27.2%) | cp=-0.50 md=8 ms=1000 mb=5 | Dur: 80.4s | Restante: 154.1min\n",
            "Iter 50/180 (27.8%) | cp=-0.50 md=8 ms=1000 mb=10 | Dur: 84.8s | Restante: 153.5min\n",
            "Iter 51/180 (28.3%) | cp=-0.50 md=8 ms=1000 mb=30 | Dur: 80.5s | Restante: 152.7min\n",
            "Iter 52/180 (28.9%) | cp=-0.50 md=8 ms=400 mb=5 | Dur: 85.9s | Restante: 152.2min\n",
            "Iter 53/180 (29.4%) | cp=-0.50 md=8 ms=400 mb=10 | Dur: 81.9s | Restante: 151.4min\n",
            "Iter 54/180 (30.0%) | cp=-0.50 md=8 ms=400 mb=30 | Dur: 81.2s | Restante: 150.6min\n",
            "Iter 55/180 (30.6%) | cp=-0.50 md=8 ms=100 mb=5 | Dur: 78.2s | Restante: 149.6min\n",
            "Iter 56/180 (31.1%) | cp=-0.50 md=8 ms=100 mb=10 | Dur: 76.3s | Restante: 148.6min\n",
            "Iter 57/180 (31.7%) | cp=-0.50 md=8 ms=100 mb=30 | Dur: 80.5s | Restante: 147.7min\n",
            "Iter 58/180 (32.2%) | cp=-0.50 md=8 ms=20 mb=5 | Dur: 78.5s | Restante: 146.7min\n",
            "Iter 59/180 (32.8%) | cp=-0.50 md=8 ms=20 mb=10 | Dur: 76.9s | Restante: 145.7min\n",
            "Iter 60/180 (33.3%) | cp=-0.50 md=8 ms=20 mb=30 | Dur: 80.3s | Restante: 144.8min\n",
            "\n",
            ">>> Guardando checkpoint en maxdepth = 8 <<<\n",
            "\n",
            "Iter 61/180 (33.9%) | cp=-0.50 md=12 ms=1000 mb=5 | Dur: 118.1s | Restante: 145.0min\n",
            "Iter 62/180 (34.4%) | cp=-0.50 md=12 ms=1000 mb=10 | Dur: 119.5s | Restante: 145.3min\n",
            "Iter 63/180 (35.0%) | cp=-0.50 md=12 ms=1000 mb=30 | Dur: 109.3s | Restante: 145.2min\n",
            "Iter 64/180 (35.6%) | cp=-0.50 md=12 ms=400 mb=5 | Dur: 116.5s | Restante: 145.2min\n",
            "Iter 65/180 (36.1%) | cp=-0.50 md=12 ms=400 mb=10 | Dur: 114.5s | Restante: 145.1min\n",
            "Iter 66/180 (36.7%) | cp=-0.50 md=12 ms=400 mb=30 | Dur: 113.0s | Restante: 144.9min\n",
            "Iter 67/180 (37.2%) | cp=-0.50 md=12 ms=100 mb=5 | Dur: 118.3s | Restante: 144.8min\n",
            "Iter 68/180 (37.8%) | cp=-0.50 md=12 ms=100 mb=10 | Dur: 118.2s | Restante: 144.7min\n",
            "Iter 69/180 (38.3%) | cp=-0.50 md=12 ms=100 mb=30 | Dur: 121.5s | Restante: 144.6min\n",
            "Iter 70/180 (38.9%) | cp=-0.50 md=12 ms=20 mb=5 | Dur: 117.5s | Restante: 144.3min\n",
            "Iter 71/180 (39.4%) | cp=-0.50 md=12 ms=20 mb=10 | Dur: 120.6s | Restante: 144.1min\n",
            "Iter 72/180 (40.0%) | cp=-0.50 md=12 ms=20 mb=30 | Dur: 125.9s | Restante: 143.9min\n",
            "\n",
            ">>> Guardando checkpoint en maxdepth = 12 <<<\n",
            "\n",
            "Iter 73/180 (40.6%) | cp=0.00 md=4 ms=1000 mb=5 | Dur: 5.6s | Restante: 140.7min\n",
            "Iter 74/180 (41.1%) | cp=0.00 md=4 ms=1000 mb=10 | Dur: 6.3s | Restante: 137.7min\n",
            "Iter 75/180 (41.7%) | cp=0.00 md=4 ms=1000 mb=30 | Dur: 4.8s | Restante: 134.7min\n",
            "Iter 76/180 (42.2%) | cp=0.00 md=4 ms=400 mb=5 | Dur: 40.6s | Restante: 132.6min\n",
            "Iter 77/180 (42.8%) | cp=0.00 md=4 ms=400 mb=10 | Dur: 39.9s | Restante: 130.5min\n",
            "Iter 78/180 (43.3%) | cp=0.00 md=4 ms=400 mb=30 | Dur: 5.8s | Restante: 127.7min\n",
            "Iter 79/180 (43.9%) | cp=0.00 md=4 ms=100 mb=5 | Dur: 41.7s | Restante: 125.7min\n",
            "Iter 80/180 (44.4%) | cp=0.00 md=4 ms=100 mb=10 | Dur: 37.2s | Restante: 123.7min\n",
            "Iter 81/180 (45.0%) | cp=0.00 md=4 ms=100 mb=30 | Dur: 6.5s | Restante: 121.1min\n",
            "Iter 82/180 (45.6%) | cp=0.00 md=4 ms=20 mb=5 | Dur: 38.3s | Restante: 119.2min\n",
            "Iter 83/180 (46.1%) | cp=0.00 md=4 ms=20 mb=10 | Dur: 38.3s | Restante: 117.3min\n",
            "Iter 84/180 (46.7%) | cp=0.00 md=4 ms=20 mb=30 | Dur: 5.0s | Restante: 114.8min\n",
            "\n",
            ">>> Guardando checkpoint en maxdepth = 4 <<<\n",
            "\n",
            "Iter 85/180 (47.2%) | cp=0.00 md=8 ms=1000 mb=5 | Dur: 75.9s | Restante: 113.7min\n",
            "Iter 86/180 (47.8%) | cp=0.00 md=8 ms=1000 mb=10 | Dur: 9.8s | Restante: 111.3min\n",
            "Iter 87/180 (48.3%) | cp=0.00 md=8 ms=1000 mb=30 | Dur: 9.7s | Restante: 109.1min\n",
            "Iter 88/180 (48.9%) | cp=0.00 md=8 ms=400 mb=5 | Dur: 78.4s | Restante: 108.0min\n",
            "Iter 89/180 (49.4%) | cp=0.00 md=8 ms=400 mb=10 | Dur: 77.4s | Restante: 107.0min\n",
            "Iter 90/180 (50.0%) | cp=0.00 md=8 ms=400 mb=30 | Dur: 9.8s | Restante: 104.8min\n",
            "Iter 91/180 (50.6%) | cp=0.00 md=8 ms=100 mb=5 | Dur: 78.4s | Restante: 103.8min\n",
            "Iter 92/180 (51.1%) | cp=0.00 md=8 ms=100 mb=10 | Dur: 79.4s | Restante: 102.7min\n",
            "Iter 93/180 (51.7%) | cp=0.00 md=8 ms=100 mb=30 | Dur: 79.5s | Restante: 101.7min\n",
            "Iter 94/180 (52.2%) | cp=0.00 md=8 ms=20 mb=5 | Dur: 80.0s | Restante: 100.7min\n",
            "Iter 95/180 (52.8%) | cp=0.00 md=8 ms=20 mb=10 | Dur: 79.5s | Restante: 99.7min\n",
            "Iter 96/180 (53.3%) | cp=0.00 md=8 ms=20 mb=30 | Dur: 81.6s | Restante: 98.7min\n",
            "\n",
            ">>> Guardando checkpoint en maxdepth = 8 <<<\n",
            "\n",
            "Iter 97/180 (53.9%) | cp=0.00 md=12 ms=1000 mb=5 | Dur: 114.0s | Restante: 98.1min\n",
            "Iter 98/180 (54.4%) | cp=0.00 md=12 ms=1000 mb=10 | Dur: 12.3s | Restante: 96.1min\n",
            "Iter 99/180 (55.0%) | cp=0.00 md=12 ms=1000 mb=30 | Dur: 13.0s | Restante: 94.2min\n",
            "Iter 100/180 (55.6%) | cp=0.00 md=12 ms=400 mb=5 | Dur: 117.9s | Restante: 93.6min\n",
            "Iter 101/180 (56.1%) | cp=0.00 md=12 ms=400 mb=10 | Dur: 116.1s | Restante: 93.1min\n",
            "Iter 102/180 (56.7%) | cp=0.00 md=12 ms=400 mb=30 | Dur: 13.0s | Restante: 91.1min\n",
            "Iter 103/180 (57.2%) | cp=0.00 md=12 ms=100 mb=5 | Dur: 114.5s | Restante: 90.5min\n",
            "Iter 104/180 (57.8%) | cp=0.00 md=12 ms=100 mb=10 | Dur: 113.7s | Restante: 89.9min\n",
            "Iter 105/180 (58.3%) | cp=0.00 md=12 ms=100 mb=30 | Dur: 114.4s | Restante: 89.2min\n",
            "Iter 106/180 (58.9%) | cp=0.00 md=12 ms=20 mb=5 | Dur: 115.2s | Restante: 88.5min\n",
            "Iter 107/180 (59.4%) | cp=0.00 md=12 ms=20 mb=10 | Dur: 119.7s | Restante: 87.9min\n",
            "Iter 108/180 (60.0%) | cp=0.00 md=12 ms=20 mb=30 | Dur: 125.0s | Restante: 87.3min\n",
            "\n",
            ">>> Guardando checkpoint en maxdepth = 12 <<<\n",
            "\n",
            "Iter 109/180 (60.6%) | cp=0.01 md=4 ms=1000 mb=5 | Dur: 5.5s | Restante: 85.3min\n",
            "Iter 110/180 (61.1%) | cp=0.01 md=4 ms=1000 mb=10 | Dur: 5.1s | Restante: 83.4min\n",
            "Iter 111/180 (61.7%) | cp=0.01 md=4 ms=1000 mb=30 | Dur: 6.2s | Restante: 81.5min\n",
            "Iter 112/180 (62.2%) | cp=0.01 md=4 ms=400 mb=5 | Dur: 5.0s | Restante: 79.7min\n",
            "Iter 113/180 (62.8%) | cp=0.01 md=4 ms=400 mb=10 | Dur: 4.9s | Restante: 77.9min\n",
            "Iter 114/180 (63.3%) | cp=0.01 md=4 ms=400 mb=30 | Dur: 6.1s | Restante: 76.1min\n",
            "Iter 115/180 (63.9%) | cp=0.01 md=4 ms=100 mb=5 | Dur: 5.0s | Restante: 74.3min\n",
            "Iter 116/180 (64.4%) | cp=0.01 md=4 ms=100 mb=10 | Dur: 5.6s | Restante: 72.6min\n",
            "Iter 117/180 (65.0%) | cp=0.01 md=4 ms=100 mb=30 | Dur: 5.5s | Restante: 70.9min\n",
            "Iter 118/180 (65.6%) | cp=0.01 md=4 ms=20 mb=5 | Dur: 5.2s | Restante: 69.3min\n",
            "Iter 119/180 (66.1%) | cp=0.01 md=4 ms=20 mb=10 | Dur: 6.5s | Restante: 67.6min\n",
            "Iter 120/180 (66.7%) | cp=0.01 md=4 ms=20 mb=30 | Dur: 5.1s | Restante: 66.0min\n",
            "\n",
            ">>> Guardando checkpoint en maxdepth = 4 <<<\n",
            "\n",
            "Iter 121/180 (67.2%) | cp=0.01 md=8 ms=1000 mb=5 | Dur: 9.4s | Restante: 64.4min\n",
            "Iter 122/180 (67.8%) | cp=0.01 md=8 ms=1000 mb=10 | Dur: 7.5s | Restante: 62.9min\n",
            "Iter 123/180 (68.3%) | cp=0.01 md=8 ms=1000 mb=30 | Dur: 9.1s | Restante: 61.4min\n",
            "Iter 124/180 (68.9%) | cp=0.01 md=8 ms=400 mb=5 | Dur: 7.7s | Restante: 59.9min\n",
            "Iter 125/180 (69.4%) | cp=0.01 md=8 ms=400 mb=10 | Dur: 9.1s | Restante: 58.4min\n",
            "Iter 126/180 (70.0%) | cp=0.01 md=8 ms=400 mb=30 | Dur: 8.2s | Restante: 56.9min\n",
            "Iter 127/180 (70.6%) | cp=0.01 md=8 ms=100 mb=5 | Dur: 8.5s | Restante: 55.5min\n",
            "Iter 128/180 (71.1%) | cp=0.01 md=8 ms=100 mb=10 | Dur: 9.1s | Restante: 54.1min\n",
            "Iter 129/180 (71.7%) | cp=0.01 md=8 ms=100 mb=30 | Dur: 7.5s | Restante: 52.7min\n",
            "Iter 130/180 (72.2%) | cp=0.01 md=8 ms=20 mb=5 | Dur: 9.4s | Restante: 51.3min\n",
            "Iter 131/180 (72.8%) | cp=0.01 md=8 ms=20 mb=10 | Dur: 8.1s | Restante: 50.0min\n",
            "Iter 132/180 (73.3%) | cp=0.01 md=8 ms=20 mb=30 | Dur: 8.5s | Restante: 48.6min\n",
            "\n",
            ">>> Guardando checkpoint en maxdepth = 8 <<<\n",
            "\n",
            "Iter 133/180 (73.9%) | cp=0.01 md=12 ms=1000 mb=5 | Dur: 9.4s | Restante: 47.3min\n",
            "Iter 134/180 (74.4%) | cp=0.01 md=12 ms=1000 mb=10 | Dur: 7.9s | Restante: 46.0min\n",
            "Iter 135/180 (75.0%) | cp=0.01 md=12 ms=1000 mb=30 | Dur: 9.5s | Restante: 44.7min\n",
            "Iter 136/180 (75.6%) | cp=0.01 md=12 ms=400 mb=5 | Dur: 9.7s | Restante: 43.5min\n",
            "Iter 137/180 (76.1%) | cp=0.01 md=12 ms=400 mb=10 | Dur: 10.0s | Restante: 42.2min\n",
            "Iter 138/180 (76.7%) | cp=0.01 md=12 ms=400 mb=30 | Dur: 9.3s | Restante: 41.0min\n",
            "Iter 139/180 (77.2%) | cp=0.01 md=12 ms=100 mb=5 | Dur: 8.4s | Restante: 39.8min\n",
            "Iter 140/180 (77.8%) | cp=0.01 md=12 ms=100 mb=10 | Dur: 9.7s | Restante: 38.6min\n",
            "Iter 141/180 (78.3%) | cp=0.01 md=12 ms=100 mb=30 | Dur: 8.6s | Restante: 37.4min\n",
            "Iter 142/180 (78.9%) | cp=0.01 md=12 ms=20 mb=5 | Dur: 9.2s | Restante: 36.2min\n",
            "Iter 143/180 (79.4%) | cp=0.01 md=12 ms=20 mb=10 | Dur: 9.7s | Restante: 35.0min\n",
            "Iter 144/180 (80.0%) | cp=0.01 md=12 ms=20 mb=30 | Dur: 8.0s | Restante: 33.9min\n",
            "\n",
            ">>> Guardando checkpoint en maxdepth = 12 <<<\n",
            "\n",
            "Iter 145/180 (80.6%) | cp=0.10 md=4 ms=1000 mb=5 | Dur: 5.2s | Restante: 32.7min\n",
            "Iter 146/180 (81.1%) | cp=0.10 md=4 ms=1000 mb=10 | Dur: 4.1s | Restante: 31.6min\n",
            "Iter 147/180 (81.7%) | cp=0.10 md=4 ms=1000 mb=30 | Dur: 4.0s | Restante: 30.5min\n",
            "Iter 148/180 (82.2%) | cp=0.10 md=4 ms=400 mb=5 | Dur: 4.8s | Restante: 29.4min\n",
            "Iter 149/180 (82.8%) | cp=0.10 md=4 ms=400 mb=10 | Dur: 4.5s | Restante: 28.3min\n",
            "Iter 150/180 (83.3%) | cp=0.10 md=4 ms=400 mb=30 | Dur: 4.0s | Restante: 27.2min\n",
            "Iter 151/180 (83.9%) | cp=0.10 md=4 ms=100 mb=5 | Dur: 4.3s | Restante: 26.1min\n",
            "Iter 152/180 (84.4%) | cp=0.10 md=4 ms=100 mb=10 | Dur: 5.4s | Restante: 25.1min\n",
            "Iter 153/180 (85.0%) | cp=0.10 md=4 ms=100 mb=30 | Dur: 4.1s | Restante: 24.0min\n",
            "Iter 154/180 (85.6%) | cp=0.10 md=4 ms=20 mb=5 | Dur: 4.1s | Restante: 23.0min\n",
            "Iter 155/180 (86.1%) | cp=0.10 md=4 ms=20 mb=10 | Dur: 5.5s | Restante: 22.0min\n",
            "Iter 156/180 (86.7%) | cp=0.10 md=4 ms=20 mb=30 | Dur: 4.0s | Restante: 21.0min\n",
            "\n",
            ">>> Guardando checkpoint en maxdepth = 4 <<<\n",
            "\n",
            "Iter 157/180 (87.2%) | cp=0.10 md=8 ms=1000 mb=5 | Dur: 4.1s | Restante: 20.0min\n",
            "Iter 158/180 (87.8%) | cp=0.10 md=8 ms=1000 mb=10 | Dur: 5.2s | Restante: 19.0min\n",
            "Iter 159/180 (88.3%) | cp=0.10 md=8 ms=1000 mb=30 | Dur: 4.2s | Restante: 18.0min\n",
            "Iter 160/180 (88.9%) | cp=0.10 md=8 ms=400 mb=5 | Dur: 3.9s | Restante: 17.1min\n",
            "Iter 161/180 (89.4%) | cp=0.10 md=8 ms=400 mb=10 | Dur: 4.7s | Restante: 16.1min\n",
            "Iter 162/180 (90.0%) | cp=0.10 md=8 ms=400 mb=30 | Dur: 4.9s | Restante: 15.2min\n",
            "Iter 163/180 (90.6%) | cp=0.10 md=8 ms=100 mb=5 | Dur: 4.0s | Restante: 14.3min\n",
            "Iter 164/180 (91.1%) | cp=0.10 md=8 ms=100 mb=10 | Dur: 4.3s | Restante: 13.4min\n",
            "Iter 165/180 (91.7%) | cp=0.10 md=8 ms=100 mb=30 | Dur: 5.4s | Restante: 12.5min\n",
            "Iter 166/180 (92.2%) | cp=0.10 md=8 ms=20 mb=5 | Dur: 4.0s | Restante: 11.6min\n",
            "Iter 167/180 (92.8%) | cp=0.10 md=8 ms=20 mb=10 | Dur: 4.1s | Restante: 10.7min\n",
            "Iter 168/180 (93.3%) | cp=0.10 md=8 ms=20 mb=30 | Dur: 5.7s | Restante: 9.8min\n",
            "\n",
            ">>> Guardando checkpoint en maxdepth = 8 <<<\n",
            "\n",
            "Iter 169/180 (93.9%) | cp=0.10 md=12 ms=1000 mb=5 | Dur: 4.0s | Restante: 8.9min\n",
            "Iter 170/180 (94.4%) | cp=0.10 md=12 ms=1000 mb=10 | Dur: 4.1s | Restante: 8.1min\n",
            "Iter 171/180 (95.0%) | cp=0.10 md=12 ms=1000 mb=30 | Dur: 5.2s | Restante: 7.2min\n",
            "Iter 172/180 (95.6%) | cp=0.10 md=12 ms=400 mb=5 | Dur: 4.2s | Restante: 6.4min\n",
            "Iter 173/180 (96.1%) | cp=0.10 md=12 ms=400 mb=10 | Dur: 4.0s | Restante: 5.6min\n",
            "Iter 174/180 (96.7%) | cp=0.10 md=12 ms=400 mb=30 | Dur: 4.7s | Restante: 4.8min\n",
            "Iter 175/180 (97.2%) | cp=0.10 md=12 ms=100 mb=5 | Dur: 6.5s | Restante: 3.9min\n",
            "Iter 176/180 (97.8%) | cp=0.10 md=12 ms=100 mb=10 | Dur: 4.1s | Restante: 3.1min\n",
            "Iter 177/180 (98.3%) | cp=0.10 md=12 ms=100 mb=30 | Dur: 4.3s | Restante: 2.3min\n",
            "Iter 178/180 (98.9%) | cp=0.10 md=12 ms=20 mb=5 | Dur: 5.5s | Restante: 1.6min\n",
            "Iter 179/180 (99.4%) | cp=0.10 md=12 ms=20 mb=10 | Dur: 3.9s | Restante: 0.8min\n",
            "Iter 180/180 (100.0%) | cp=0.10 md=12 ms=20 mb=30 | Dur: 4.0s | Restante: 0.0min\n",
            "\n",
            ">>> Guardando checkpoint en maxdepth = 12 <<<\n",
            "\n",
            "\n",
            "=================================================\n",
            "Exploración completada\n",
            "Tiempo total: 138.2 minutos\n",
            "=================================================\n",
            "\n",
            "Próximo paso: Analizar resultados y hacer ETAPA 2 con refinamiento\n",
            "en la zona de mejores hiperparámetros\n"
          ]
        }
      ]
    },
    {
      "cell_type": "code",
      "source": [
        "fwrite( tb_grid_search_detalle,\n",
        "   file = \"gridsearch_detalle.txt\",\n",
        "   sep = \"\\t\"\n",
        ")"
      ],
      "metadata": {
        "id": "WZaSqYBxiDFu"
      },
      "execution_count": 39,
      "outputs": []
    },
    {
      "cell_type": "code",
      "source": [
        "# cantidad de registros de la tabla\n",
        "nrow(tb_grid_search_detalle)"
      ],
      "metadata": {
        "id": "STp0duM-RYVJ",
        "colab": {
          "base_uri": "https://localhost:8080/",
          "height": 34
        },
        "outputId": "cb7c1f8b-25f1-4ed1-9d07-79f14bd70df4"
      },
      "execution_count": 40,
      "outputs": [
        {
          "output_type": "display_data",
          "data": {
            "text/html": [
              "180"
            ],
            "text/markdown": "180",
            "text/latex": "180",
            "text/plain": [
              "[1] 180"
            ]
          },
          "metadata": {}
        }
      ]
    },
    {
      "cell_type": "code",
      "source": [
        "# muestro la tabla\n",
        "tb_grid_search_detalle"
      ],
      "metadata": {
        "id": "k7fhk_H0iNez",
        "colab": {
          "base_uri": "https://localhost:8080/",
          "height": 1000
        },
        "outputId": "13726d7b-7338-415f-8eb9-7404951fca61"
      },
      "execution_count": 41,
      "outputs": [
        {
          "output_type": "display_data",
          "data": {
            "text/html": [
              "<table class=\"dataframe\">\n",
              "<caption>A data.table: 180 × 6</caption>\n",
              "<thead>\n",
              "\t<tr><th scope=col>semilla</th><th scope=col>cp</th><th scope=col>maxdepth</th><th scope=col>minsplit</th><th scope=col>minbucket</th><th scope=col>ganancia_test</th></tr>\n",
              "\t<tr><th scope=col>&lt;int&gt;</th><th scope=col>&lt;dbl&gt;</th><th scope=col>&lt;dbl&gt;</th><th scope=col>&lt;dbl&gt;</th><th scope=col>&lt;dbl&gt;</th><th scope=col>&lt;dbl&gt;</th></tr>\n",
              "</thead>\n",
              "<tbody>\n",
              "\t<tr><td>644593</td><td>-1</td><td> 4</td><td>1000</td><td> 5</td><td>45980000</td></tr>\n",
              "\t<tr><td>644593</td><td>-1</td><td> 4</td><td>1000</td><td>10</td><td>45980000</td></tr>\n",
              "\t<tr><td>644593</td><td>-1</td><td> 4</td><td>1000</td><td>30</td><td>48850000</td></tr>\n",
              "\t<tr><td>644593</td><td>-1</td><td> 4</td><td> 400</td><td> 5</td><td>45110000</td></tr>\n",
              "\t<tr><td>644593</td><td>-1</td><td> 4</td><td> 400</td><td>10</td><td>45110000</td></tr>\n",
              "\t<tr><td>644593</td><td>-1</td><td> 4</td><td> 400</td><td>30</td><td>48940000</td></tr>\n",
              "\t<tr><td>644593</td><td>-1</td><td> 4</td><td> 100</td><td> 5</td><td>45110000</td></tr>\n",
              "\t<tr><td>644593</td><td>-1</td><td> 4</td><td> 100</td><td>10</td><td>45110000</td></tr>\n",
              "\t<tr><td>644593</td><td>-1</td><td> 4</td><td> 100</td><td>30</td><td>48940000</td></tr>\n",
              "\t<tr><td>644593</td><td>-1</td><td> 4</td><td>  20</td><td> 5</td><td>45110000</td></tr>\n",
              "\t<tr><td>644593</td><td>-1</td><td> 4</td><td>  20</td><td>10</td><td>45110000</td></tr>\n",
              "\t<tr><td>644593</td><td>-1</td><td> 4</td><td>  20</td><td>30</td><td>49030000</td></tr>\n",
              "\t<tr><td>644593</td><td>-1</td><td> 8</td><td>1000</td><td> 5</td><td>50050000</td></tr>\n",
              "\t<tr><td>644593</td><td>-1</td><td> 8</td><td>1000</td><td>10</td><td>50780000</td></tr>\n",
              "\t<tr><td>644593</td><td>-1</td><td> 8</td><td>1000</td><td>30</td><td>48880000</td></tr>\n",
              "\t<tr><td>644593</td><td>-1</td><td> 8</td><td> 400</td><td> 5</td><td>43490000</td></tr>\n",
              "\t<tr><td>644593</td><td>-1</td><td> 8</td><td> 400</td><td>10</td><td>43870000</td></tr>\n",
              "\t<tr><td>644593</td><td>-1</td><td> 8</td><td> 400</td><td>30</td><td>46150000</td></tr>\n",
              "\t<tr><td>644593</td><td>-1</td><td> 8</td><td> 100</td><td> 5</td><td>44670000</td></tr>\n",
              "\t<tr><td>644593</td><td>-1</td><td> 8</td><td> 100</td><td>10</td><td>44850000</td></tr>\n",
              "\t<tr><td>644593</td><td>-1</td><td> 8</td><td> 100</td><td>30</td><td>42540000</td></tr>\n",
              "\t<tr><td>644593</td><td>-1</td><td> 8</td><td>  20</td><td> 5</td><td>44040000</td></tr>\n",
              "\t<tr><td>644593</td><td>-1</td><td> 8</td><td>  20</td><td>10</td><td>43250000</td></tr>\n",
              "\t<tr><td>644593</td><td>-1</td><td> 8</td><td>  20</td><td>30</td><td>42850000</td></tr>\n",
              "\t<tr><td>644593</td><td>-1</td><td>12</td><td>1000</td><td> 5</td><td>49300000</td></tr>\n",
              "\t<tr><td>644593</td><td>-1</td><td>12</td><td>1000</td><td>10</td><td>52250000</td></tr>\n",
              "\t<tr><td>644593</td><td>-1</td><td>12</td><td>1000</td><td>30</td><td>46690000</td></tr>\n",
              "\t<tr><td>644593</td><td>-1</td><td>12</td><td> 400</td><td> 5</td><td>45470000</td></tr>\n",
              "\t<tr><td>644593</td><td>-1</td><td>12</td><td> 400</td><td>10</td><td>47260000</td></tr>\n",
              "\t<tr><td>644593</td><td>-1</td><td>12</td><td> 400</td><td>30</td><td>46510000</td></tr>\n",
              "\t<tr><td>⋮</td><td>⋮</td><td>⋮</td><td>⋮</td><td>⋮</td><td>⋮</td></tr>\n",
              "\t<tr><td>644593</td><td>0.1</td><td> 4</td><td> 100</td><td> 5</td><td>0</td></tr>\n",
              "\t<tr><td>644593</td><td>0.1</td><td> 4</td><td> 100</td><td>10</td><td>0</td></tr>\n",
              "\t<tr><td>644593</td><td>0.1</td><td> 4</td><td> 100</td><td>30</td><td>0</td></tr>\n",
              "\t<tr><td>644593</td><td>0.1</td><td> 4</td><td>  20</td><td> 5</td><td>0</td></tr>\n",
              "\t<tr><td>644593</td><td>0.1</td><td> 4</td><td>  20</td><td>10</td><td>0</td></tr>\n",
              "\t<tr><td>644593</td><td>0.1</td><td> 4</td><td>  20</td><td>30</td><td>0</td></tr>\n",
              "\t<tr><td>644593</td><td>0.1</td><td> 8</td><td>1000</td><td> 5</td><td>0</td></tr>\n",
              "\t<tr><td>644593</td><td>0.1</td><td> 8</td><td>1000</td><td>10</td><td>0</td></tr>\n",
              "\t<tr><td>644593</td><td>0.1</td><td> 8</td><td>1000</td><td>30</td><td>0</td></tr>\n",
              "\t<tr><td>644593</td><td>0.1</td><td> 8</td><td> 400</td><td> 5</td><td>0</td></tr>\n",
              "\t<tr><td>644593</td><td>0.1</td><td> 8</td><td> 400</td><td>10</td><td>0</td></tr>\n",
              "\t<tr><td>644593</td><td>0.1</td><td> 8</td><td> 400</td><td>30</td><td>0</td></tr>\n",
              "\t<tr><td>644593</td><td>0.1</td><td> 8</td><td> 100</td><td> 5</td><td>0</td></tr>\n",
              "\t<tr><td>644593</td><td>0.1</td><td> 8</td><td> 100</td><td>10</td><td>0</td></tr>\n",
              "\t<tr><td>644593</td><td>0.1</td><td> 8</td><td> 100</td><td>30</td><td>0</td></tr>\n",
              "\t<tr><td>644593</td><td>0.1</td><td> 8</td><td>  20</td><td> 5</td><td>0</td></tr>\n",
              "\t<tr><td>644593</td><td>0.1</td><td> 8</td><td>  20</td><td>10</td><td>0</td></tr>\n",
              "\t<tr><td>644593</td><td>0.1</td><td> 8</td><td>  20</td><td>30</td><td>0</td></tr>\n",
              "\t<tr><td>644593</td><td>0.1</td><td>12</td><td>1000</td><td> 5</td><td>0</td></tr>\n",
              "\t<tr><td>644593</td><td>0.1</td><td>12</td><td>1000</td><td>10</td><td>0</td></tr>\n",
              "\t<tr><td>644593</td><td>0.1</td><td>12</td><td>1000</td><td>30</td><td>0</td></tr>\n",
              "\t<tr><td>644593</td><td>0.1</td><td>12</td><td> 400</td><td> 5</td><td>0</td></tr>\n",
              "\t<tr><td>644593</td><td>0.1</td><td>12</td><td> 400</td><td>10</td><td>0</td></tr>\n",
              "\t<tr><td>644593</td><td>0.1</td><td>12</td><td> 400</td><td>30</td><td>0</td></tr>\n",
              "\t<tr><td>644593</td><td>0.1</td><td>12</td><td> 100</td><td> 5</td><td>0</td></tr>\n",
              "\t<tr><td>644593</td><td>0.1</td><td>12</td><td> 100</td><td>10</td><td>0</td></tr>\n",
              "\t<tr><td>644593</td><td>0.1</td><td>12</td><td> 100</td><td>30</td><td>0</td></tr>\n",
              "\t<tr><td>644593</td><td>0.1</td><td>12</td><td>  20</td><td> 5</td><td>0</td></tr>\n",
              "\t<tr><td>644593</td><td>0.1</td><td>12</td><td>  20</td><td>10</td><td>0</td></tr>\n",
              "\t<tr><td>644593</td><td>0.1</td><td>12</td><td>  20</td><td>30</td><td>0</td></tr>\n",
              "</tbody>\n",
              "</table>\n"
            ],
            "text/markdown": "\nA data.table: 180 × 6\n\n| semilla &lt;int&gt; | cp &lt;dbl&gt; | maxdepth &lt;dbl&gt; | minsplit &lt;dbl&gt; | minbucket &lt;dbl&gt; | ganancia_test &lt;dbl&gt; |\n|---|---|---|---|---|---|\n| 644593 | -1 |  4 | 1000 |  5 | 45980000 |\n| 644593 | -1 |  4 | 1000 | 10 | 45980000 |\n| 644593 | -1 |  4 | 1000 | 30 | 48850000 |\n| 644593 | -1 |  4 |  400 |  5 | 45110000 |\n| 644593 | -1 |  4 |  400 | 10 | 45110000 |\n| 644593 | -1 |  4 |  400 | 30 | 48940000 |\n| 644593 | -1 |  4 |  100 |  5 | 45110000 |\n| 644593 | -1 |  4 |  100 | 10 | 45110000 |\n| 644593 | -1 |  4 |  100 | 30 | 48940000 |\n| 644593 | -1 |  4 |   20 |  5 | 45110000 |\n| 644593 | -1 |  4 |   20 | 10 | 45110000 |\n| 644593 | -1 |  4 |   20 | 30 | 49030000 |\n| 644593 | -1 |  8 | 1000 |  5 | 50050000 |\n| 644593 | -1 |  8 | 1000 | 10 | 50780000 |\n| 644593 | -1 |  8 | 1000 | 30 | 48880000 |\n| 644593 | -1 |  8 |  400 |  5 | 43490000 |\n| 644593 | -1 |  8 |  400 | 10 | 43870000 |\n| 644593 | -1 |  8 |  400 | 30 | 46150000 |\n| 644593 | -1 |  8 |  100 |  5 | 44670000 |\n| 644593 | -1 |  8 |  100 | 10 | 44850000 |\n| 644593 | -1 |  8 |  100 | 30 | 42540000 |\n| 644593 | -1 |  8 |   20 |  5 | 44040000 |\n| 644593 | -1 |  8 |   20 | 10 | 43250000 |\n| 644593 | -1 |  8 |   20 | 30 | 42850000 |\n| 644593 | -1 | 12 | 1000 |  5 | 49300000 |\n| 644593 | -1 | 12 | 1000 | 10 | 52250000 |\n| 644593 | -1 | 12 | 1000 | 30 | 46690000 |\n| 644593 | -1 | 12 |  400 |  5 | 45470000 |\n| 644593 | -1 | 12 |  400 | 10 | 47260000 |\n| 644593 | -1 | 12 |  400 | 30 | 46510000 |\n| ⋮ | ⋮ | ⋮ | ⋮ | ⋮ | ⋮ |\n| 644593 | 0.1 |  4 |  100 |  5 | 0 |\n| 644593 | 0.1 |  4 |  100 | 10 | 0 |\n| 644593 | 0.1 |  4 |  100 | 30 | 0 |\n| 644593 | 0.1 |  4 |   20 |  5 | 0 |\n| 644593 | 0.1 |  4 |   20 | 10 | 0 |\n| 644593 | 0.1 |  4 |   20 | 30 | 0 |\n| 644593 | 0.1 |  8 | 1000 |  5 | 0 |\n| 644593 | 0.1 |  8 | 1000 | 10 | 0 |\n| 644593 | 0.1 |  8 | 1000 | 30 | 0 |\n| 644593 | 0.1 |  8 |  400 |  5 | 0 |\n| 644593 | 0.1 |  8 |  400 | 10 | 0 |\n| 644593 | 0.1 |  8 |  400 | 30 | 0 |\n| 644593 | 0.1 |  8 |  100 |  5 | 0 |\n| 644593 | 0.1 |  8 |  100 | 10 | 0 |\n| 644593 | 0.1 |  8 |  100 | 30 | 0 |\n| 644593 | 0.1 |  8 |   20 |  5 | 0 |\n| 644593 | 0.1 |  8 |   20 | 10 | 0 |\n| 644593 | 0.1 |  8 |   20 | 30 | 0 |\n| 644593 | 0.1 | 12 | 1000 |  5 | 0 |\n| 644593 | 0.1 | 12 | 1000 | 10 | 0 |\n| 644593 | 0.1 | 12 | 1000 | 30 | 0 |\n| 644593 | 0.1 | 12 |  400 |  5 | 0 |\n| 644593 | 0.1 | 12 |  400 | 10 | 0 |\n| 644593 | 0.1 | 12 |  400 | 30 | 0 |\n| 644593 | 0.1 | 12 |  100 |  5 | 0 |\n| 644593 | 0.1 | 12 |  100 | 10 | 0 |\n| 644593 | 0.1 | 12 |  100 | 30 | 0 |\n| 644593 | 0.1 | 12 |   20 |  5 | 0 |\n| 644593 | 0.1 | 12 |   20 | 10 | 0 |\n| 644593 | 0.1 | 12 |   20 | 30 | 0 |\n\n",
            "text/latex": "A data.table: 180 × 6\n\\begin{tabular}{llllll}\n semilla & cp & maxdepth & minsplit & minbucket & ganancia\\_test\\\\\n <int> & <dbl> & <dbl> & <dbl> & <dbl> & <dbl>\\\\\n\\hline\n\t 644593 & -1 &  4 & 1000 &  5 & 45980000\\\\\n\t 644593 & -1 &  4 & 1000 & 10 & 45980000\\\\\n\t 644593 & -1 &  4 & 1000 & 30 & 48850000\\\\\n\t 644593 & -1 &  4 &  400 &  5 & 45110000\\\\\n\t 644593 & -1 &  4 &  400 & 10 & 45110000\\\\\n\t 644593 & -1 &  4 &  400 & 30 & 48940000\\\\\n\t 644593 & -1 &  4 &  100 &  5 & 45110000\\\\\n\t 644593 & -1 &  4 &  100 & 10 & 45110000\\\\\n\t 644593 & -1 &  4 &  100 & 30 & 48940000\\\\\n\t 644593 & -1 &  4 &   20 &  5 & 45110000\\\\\n\t 644593 & -1 &  4 &   20 & 10 & 45110000\\\\\n\t 644593 & -1 &  4 &   20 & 30 & 49030000\\\\\n\t 644593 & -1 &  8 & 1000 &  5 & 50050000\\\\\n\t 644593 & -1 &  8 & 1000 & 10 & 50780000\\\\\n\t 644593 & -1 &  8 & 1000 & 30 & 48880000\\\\\n\t 644593 & -1 &  8 &  400 &  5 & 43490000\\\\\n\t 644593 & -1 &  8 &  400 & 10 & 43870000\\\\\n\t 644593 & -1 &  8 &  400 & 30 & 46150000\\\\\n\t 644593 & -1 &  8 &  100 &  5 & 44670000\\\\\n\t 644593 & -1 &  8 &  100 & 10 & 44850000\\\\\n\t 644593 & -1 &  8 &  100 & 30 & 42540000\\\\\n\t 644593 & -1 &  8 &   20 &  5 & 44040000\\\\\n\t 644593 & -1 &  8 &   20 & 10 & 43250000\\\\\n\t 644593 & -1 &  8 &   20 & 30 & 42850000\\\\\n\t 644593 & -1 & 12 & 1000 &  5 & 49300000\\\\\n\t 644593 & -1 & 12 & 1000 & 10 & 52250000\\\\\n\t 644593 & -1 & 12 & 1000 & 30 & 46690000\\\\\n\t 644593 & -1 & 12 &  400 &  5 & 45470000\\\\\n\t 644593 & -1 & 12 &  400 & 10 & 47260000\\\\\n\t 644593 & -1 & 12 &  400 & 30 & 46510000\\\\\n\t ⋮ & ⋮ & ⋮ & ⋮ & ⋮ & ⋮\\\\\n\t 644593 & 0.1 &  4 &  100 &  5 & 0\\\\\n\t 644593 & 0.1 &  4 &  100 & 10 & 0\\\\\n\t 644593 & 0.1 &  4 &  100 & 30 & 0\\\\\n\t 644593 & 0.1 &  4 &   20 &  5 & 0\\\\\n\t 644593 & 0.1 &  4 &   20 & 10 & 0\\\\\n\t 644593 & 0.1 &  4 &   20 & 30 & 0\\\\\n\t 644593 & 0.1 &  8 & 1000 &  5 & 0\\\\\n\t 644593 & 0.1 &  8 & 1000 & 10 & 0\\\\\n\t 644593 & 0.1 &  8 & 1000 & 30 & 0\\\\\n\t 644593 & 0.1 &  8 &  400 &  5 & 0\\\\\n\t 644593 & 0.1 &  8 &  400 & 10 & 0\\\\\n\t 644593 & 0.1 &  8 &  400 & 30 & 0\\\\\n\t 644593 & 0.1 &  8 &  100 &  5 & 0\\\\\n\t 644593 & 0.1 &  8 &  100 & 10 & 0\\\\\n\t 644593 & 0.1 &  8 &  100 & 30 & 0\\\\\n\t 644593 & 0.1 &  8 &   20 &  5 & 0\\\\\n\t 644593 & 0.1 &  8 &   20 & 10 & 0\\\\\n\t 644593 & 0.1 &  8 &   20 & 30 & 0\\\\\n\t 644593 & 0.1 & 12 & 1000 &  5 & 0\\\\\n\t 644593 & 0.1 & 12 & 1000 & 10 & 0\\\\\n\t 644593 & 0.1 & 12 & 1000 & 30 & 0\\\\\n\t 644593 & 0.1 & 12 &  400 &  5 & 0\\\\\n\t 644593 & 0.1 & 12 &  400 & 10 & 0\\\\\n\t 644593 & 0.1 & 12 &  400 & 30 & 0\\\\\n\t 644593 & 0.1 & 12 &  100 &  5 & 0\\\\\n\t 644593 & 0.1 & 12 &  100 & 10 & 0\\\\\n\t 644593 & 0.1 & 12 &  100 & 30 & 0\\\\\n\t 644593 & 0.1 & 12 &   20 &  5 & 0\\\\\n\t 644593 & 0.1 & 12 &   20 & 10 & 0\\\\\n\t 644593 & 0.1 & 12 &   20 & 30 & 0\\\\\n\\end{tabular}\n",
            "text/plain": [
              "    semilla cp  maxdepth minsplit minbucket ganancia_test\n",
              "1   644593  -1   4       1000      5        45980000     \n",
              "2   644593  -1   4       1000     10        45980000     \n",
              "3   644593  -1   4       1000     30        48850000     \n",
              "4   644593  -1   4        400      5        45110000     \n",
              "5   644593  -1   4        400     10        45110000     \n",
              "6   644593  -1   4        400     30        48940000     \n",
              "7   644593  -1   4        100      5        45110000     \n",
              "8   644593  -1   4        100     10        45110000     \n",
              "9   644593  -1   4        100     30        48940000     \n",
              "10  644593  -1   4         20      5        45110000     \n",
              "11  644593  -1   4         20     10        45110000     \n",
              "12  644593  -1   4         20     30        49030000     \n",
              "13  644593  -1   8       1000      5        50050000     \n",
              "14  644593  -1   8       1000     10        50780000     \n",
              "15  644593  -1   8       1000     30        48880000     \n",
              "16  644593  -1   8        400      5        43490000     \n",
              "17  644593  -1   8        400     10        43870000     \n",
              "18  644593  -1   8        400     30        46150000     \n",
              "19  644593  -1   8        100      5        44670000     \n",
              "20  644593  -1   8        100     10        44850000     \n",
              "21  644593  -1   8        100     30        42540000     \n",
              "22  644593  -1   8         20      5        44040000     \n",
              "23  644593  -1   8         20     10        43250000     \n",
              "24  644593  -1   8         20     30        42850000     \n",
              "25  644593  -1  12       1000      5        49300000     \n",
              "26  644593  -1  12       1000     10        52250000     \n",
              "27  644593  -1  12       1000     30        46690000     \n",
              "28  644593  -1  12        400      5        45470000     \n",
              "29  644593  -1  12        400     10        47260000     \n",
              "30  644593  -1  12        400     30        46510000     \n",
              "⋮   ⋮       ⋮   ⋮        ⋮        ⋮         ⋮            \n",
              "151 644593  0.1  4        100      5        0            \n",
              "152 644593  0.1  4        100     10        0            \n",
              "153 644593  0.1  4        100     30        0            \n",
              "154 644593  0.1  4         20      5        0            \n",
              "155 644593  0.1  4         20     10        0            \n",
              "156 644593  0.1  4         20     30        0            \n",
              "157 644593  0.1  8       1000      5        0            \n",
              "158 644593  0.1  8       1000     10        0            \n",
              "159 644593  0.1  8       1000     30        0            \n",
              "160 644593  0.1  8        400      5        0            \n",
              "161 644593  0.1  8        400     10        0            \n",
              "162 644593  0.1  8        400     30        0            \n",
              "163 644593  0.1  8        100      5        0            \n",
              "164 644593  0.1  8        100     10        0            \n",
              "165 644593  0.1  8        100     30        0            \n",
              "166 644593  0.1  8         20      5        0            \n",
              "167 644593  0.1  8         20     10        0            \n",
              "168 644593  0.1  8         20     30        0            \n",
              "169 644593  0.1 12       1000      5        0            \n",
              "170 644593  0.1 12       1000     10        0            \n",
              "171 644593  0.1 12       1000     30        0            \n",
              "172 644593  0.1 12        400      5        0            \n",
              "173 644593  0.1 12        400     10        0            \n",
              "174 644593  0.1 12        400     30        0            \n",
              "175 644593  0.1 12        100      5        0            \n",
              "176 644593  0.1 12        100     10        0            \n",
              "177 644593  0.1 12        100     30        0            \n",
              "178 644593  0.1 12         20      5        0            \n",
              "179 644593  0.1 12         20     10        0            \n",
              "180 644593  0.1 12         20     30        0            "
            ]
          },
          "metadata": {}
        }
      ]
    },
    {
      "cell_type": "code",
      "source": [
        "# genero y grabo el resumen\n",
        "tb_grid_search <- tb_grid_search_detalle[,\n",
        "  list( \"ganancia_mean\" = mean(ganancia_test),\n",
        "    \"qty\" = .N ),\n",
        "  list( cp, maxdepth, minsplit, minbucket )\n",
        "]\n"
      ],
      "metadata": {
        "id": "DjCxtx8bIsgl"
      },
      "execution_count": 42,
      "outputs": []
    },
    {
      "cell_type": "code",
      "source": [
        "# ordeno descendente por ganancia\n",
        "setorder( tb_grid_search, -ganancia_mean )\n"
      ],
      "metadata": {
        "id": "LU29UhL1Ivg5"
      },
      "execution_count": 43,
      "outputs": []
    },
    {
      "cell_type": "code",
      "source": [
        "# veo los 10 mejores hiperparámetros\n",
        "tb_grid_search[1:10]"
      ],
      "metadata": {
        "id": "g-EjGY7aIyWL",
        "colab": {
          "base_uri": "https://localhost:8080/",
          "height": 411
        },
        "outputId": "132dc0b7-6b1c-492b-d75f-62afecb551c3"
      },
      "execution_count": 44,
      "outputs": [
        {
          "output_type": "display_data",
          "data": {
            "text/html": [
              "<table class=\"dataframe\">\n",
              "<caption>A data.table: 10 × 6</caption>\n",
              "<thead>\n",
              "\t<tr><th scope=col>cp</th><th scope=col>maxdepth</th><th scope=col>minsplit</th><th scope=col>minbucket</th><th scope=col>ganancia_mean</th><th scope=col>qty</th></tr>\n",
              "\t<tr><th scope=col>&lt;dbl&gt;</th><th scope=col>&lt;dbl&gt;</th><th scope=col>&lt;dbl&gt;</th><th scope=col>&lt;dbl&gt;</th><th scope=col>&lt;dbl&gt;</th><th scope=col>&lt;int&gt;</th></tr>\n",
              "</thead>\n",
              "<tbody>\n",
              "\t<tr><td>-1.0</td><td>12</td><td>1000</td><td>10</td><td>52250000</td><td>1</td></tr>\n",
              "\t<tr><td>-0.5</td><td>12</td><td>1000</td><td>10</td><td>52250000</td><td>1</td></tr>\n",
              "\t<tr><td>-1.0</td><td> 8</td><td>1000</td><td>10</td><td>50780000</td><td>1</td></tr>\n",
              "\t<tr><td>-0.5</td><td> 8</td><td>1000</td><td>10</td><td>50780000</td><td>1</td></tr>\n",
              "\t<tr><td>-1.0</td><td> 8</td><td>1000</td><td> 5</td><td>50050000</td><td>1</td></tr>\n",
              "\t<tr><td>-0.5</td><td> 8</td><td>1000</td><td> 5</td><td>50050000</td><td>1</td></tr>\n",
              "\t<tr><td>-1.0</td><td>12</td><td>1000</td><td> 5</td><td>49300000</td><td>1</td></tr>\n",
              "\t<tr><td>-0.5</td><td>12</td><td>1000</td><td> 5</td><td>49300000</td><td>1</td></tr>\n",
              "\t<tr><td>-1.0</td><td> 4</td><td>  20</td><td>30</td><td>49030000</td><td>1</td></tr>\n",
              "\t<tr><td>-0.5</td><td> 4</td><td>  20</td><td>30</td><td>49030000</td><td>1</td></tr>\n",
              "</tbody>\n",
              "</table>\n"
            ],
            "text/markdown": "\nA data.table: 10 × 6\n\n| cp &lt;dbl&gt; | maxdepth &lt;dbl&gt; | minsplit &lt;dbl&gt; | minbucket &lt;dbl&gt; | ganancia_mean &lt;dbl&gt; | qty &lt;int&gt; |\n|---|---|---|---|---|---|\n| -1.0 | 12 | 1000 | 10 | 52250000 | 1 |\n| -0.5 | 12 | 1000 | 10 | 52250000 | 1 |\n| -1.0 |  8 | 1000 | 10 | 50780000 | 1 |\n| -0.5 |  8 | 1000 | 10 | 50780000 | 1 |\n| -1.0 |  8 | 1000 |  5 | 50050000 | 1 |\n| -0.5 |  8 | 1000 |  5 | 50050000 | 1 |\n| -1.0 | 12 | 1000 |  5 | 49300000 | 1 |\n| -0.5 | 12 | 1000 |  5 | 49300000 | 1 |\n| -1.0 |  4 |   20 | 30 | 49030000 | 1 |\n| -0.5 |  4 |   20 | 30 | 49030000 | 1 |\n\n",
            "text/latex": "A data.table: 10 × 6\n\\begin{tabular}{llllll}\n cp & maxdepth & minsplit & minbucket & ganancia\\_mean & qty\\\\\n <dbl> & <dbl> & <dbl> & <dbl> & <dbl> & <int>\\\\\n\\hline\n\t -1.0 & 12 & 1000 & 10 & 52250000 & 1\\\\\n\t -0.5 & 12 & 1000 & 10 & 52250000 & 1\\\\\n\t -1.0 &  8 & 1000 & 10 & 50780000 & 1\\\\\n\t -0.5 &  8 & 1000 & 10 & 50780000 & 1\\\\\n\t -1.0 &  8 & 1000 &  5 & 50050000 & 1\\\\\n\t -0.5 &  8 & 1000 &  5 & 50050000 & 1\\\\\n\t -1.0 & 12 & 1000 &  5 & 49300000 & 1\\\\\n\t -0.5 & 12 & 1000 &  5 & 49300000 & 1\\\\\n\t -1.0 &  4 &   20 & 30 & 49030000 & 1\\\\\n\t -0.5 &  4 &   20 & 30 & 49030000 & 1\\\\\n\\end{tabular}\n",
            "text/plain": [
              "   cp   maxdepth minsplit minbucket ganancia_mean qty\n",
              "1  -1.0 12       1000     10        52250000      1  \n",
              "2  -0.5 12       1000     10        52250000      1  \n",
              "3  -1.0  8       1000     10        50780000      1  \n",
              "4  -0.5  8       1000     10        50780000      1  \n",
              "5  -1.0  8       1000      5        50050000      1  \n",
              "6  -0.5  8       1000      5        50050000      1  \n",
              "7  -1.0 12       1000      5        49300000      1  \n",
              "8  -0.5 12       1000      5        49300000      1  \n",
              "9  -1.0  4         20     30        49030000      1  \n",
              "10 -0.5  4         20     30        49030000      1  "
            ]
          },
          "metadata": {}
        }
      ]
    },
    {
      "cell_type": "code",
      "source": [
        "# genero un id a la tabla\n",
        "tb_grid_search[, id := .I ]\n",
        "\n",
        "fwrite( tb_grid_search,\n",
        "  file = \"gridsearch.txt\",\n",
        "  sep = \"\\t\"\n",
        ")\n"
      ],
      "metadata": {
        "id": "K3S-I2PTI5ZE"
      },
      "execution_count": 45,
      "outputs": []
    },
    {
      "cell_type": "markdown",
      "source": [
        "# 4.  Análisis de resultados de Grid Search"
      ],
      "metadata": {
        "id": "1rYHk1YkI_9k"
      }
    },
    {
      "cell_type": "markdown",
      "source": [
        "La salida de la corrida anterior queda en ~/buckets/b1/exp/HT2900  que corresponde a su Google Drive\n",
        "<br>HT significa Hyperparameter Tuning\n",
        "<br>El Grid Search es un método de fuerza bruta de un altísimo costo computacional.\n",
        "<br>Queremos ver si es posible crear un algoritmo de optimización de hiperparámetros que se ahorre recorrer ciertas porciones muy malas del espacio de búsqueda. Algo del estilo “cada vez que pruebo una combinación de hiperparámetros donde  cp > 1 , la ganancia es muy mala, con lo cual ni vale la pena perder el tiempo explorando en esa region”\n"
      ],
      "metadata": {
        "id": "ZTJgPhMWJHTk"
      }
    },
    {
      "cell_type": "markdown",
      "source": [
        "<br>Levante el archivo de salida gridsearch.txt  a una planilla tipo Excel y analícelo detenidamente\n",
        "<br>Ordene por ganancia_mean descendente\n",
        "<br>\n",
        "<br>El de mayor ganancia_mean  decimos que es el primero del ranking\n",
        "En Zulip, correspondiente channel  #Tarea Hogar 02 , topic Analisis Grid Search   intente contestar estas preguntas:\n",
        "\n",
        "* ¿Qué combinaciones de hiperparámetros poseen una ganancia muy buena?\n",
        "* ¿Hay algun hiperparámetro que para cierto valor siempre genera una ganancia muy mala, a independientemente de lo que valgan los otros hiperparámetros ?\n",
        "* ¿Que combinaciones de hiperparámetros es pésima y hubiera sido bueno ahorrarse esas corridas ?\n",
        "\n",
        "( tiempo estimado 30 minutos, dificultad media )"
      ],
      "metadata": {
        "id": "IaVgMu4tPwyB"
      }
    }
  ]
}