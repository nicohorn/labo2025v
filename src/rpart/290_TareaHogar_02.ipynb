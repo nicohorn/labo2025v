{
  "nbformat": 4,
  "nbformat_minor": 0,
  "metadata": {
    "colab": {
      "provenance": [],
      "include_colab_link": true
    },
    "kernelspec": {
      "name": "ir",
      "display_name": "R"
    },
    "language_info": {
      "name": "R"
    }
  },
  "cells": [
    {
      "cell_type": "markdown",
      "metadata": {
        "id": "view-in-github",
        "colab_type": "text"
      },
      "source": [
        "<a href=\"https://colab.research.google.com/github/nicohorn/labo2025v/blob/main/src/rpart/290_TareaHogar_02.ipynb\" target=\"_parent\"><img src=\"https://colab.research.google.com/assets/colab-badge.svg\" alt=\"Open In Colab\"/></a>"
      ]
    },
    {
      "cell_type": "markdown",
      "source": [
        "# Tarea para el Hogar 02"
      ],
      "metadata": {
        "id": "F3r8aa3pBigj"
      }
    },
    {
      "cell_type": "markdown",
      "source": [
        "Esta Tarea para el Hogar 02 se entrega el final de la segunda clase\n",
        "<br> se espera de usted que intente avanzar con los desafios propuestos y que los traiga terminados para la Clase 03, ya que se analizarán los resultados"
      ],
      "metadata": {
        "id": "nBm4ktHUBmZt"
      }
    },
    {
      "cell_type": "markdown",
      "source": [
        "##  1. Ensembles de Modelos"
      ],
      "metadata": {
        "id": "TK-M04ElCESC"
      }
    },
    {
      "cell_type": "markdown",
      "source": [
        "Vea el siguiente video [BBC - The Code - The Wisdom of the Crowd](https://www.youtube.com/watch?v=iOucwX7Z1HU)    ( 5 min)\n"
      ],
      "metadata": {
        "id": "biPYxgobCOSS"
      }
    },
    {
      "cell_type": "markdown",
      "source": [
        "Lea los siguientes artículos\n",
        "\n",
        "\n",
        "*   [The Wisdom of Crowds (Vox Populi) by Francis Galton](https://www.all-about-psychology.com/the-wisdom-of-crowds.html)  (10 min)\n",
        "*   [A Gentle Introduction to Ensemble Learning](https://machinelearningmastery.com/what-is-ensemble-learning/)  (10 min)\n",
        "\n"
      ],
      "metadata": {
        "id": "FBszBRyNCcjp"
      }
    },
    {
      "cell_type": "markdown",
      "source": [
        "\n",
        "\n",
        "---\n",
        "\n"
      ],
      "metadata": {
        "id": "x7SebtV2lpHQ"
      }
    },
    {
      "cell_type": "markdown",
      "source": [
        "##  2.  Zero2Hero   primera parte\n",
        "Se han lanzado los primeros fascículos coleccionables llamados \"from Zero to Hero\" que muy detalladamente, paso a paso enseñan todo lo necesario de R para entender los scripts oficiales de la asignatura.\n",
        "Están en el repositorio oficial de la asignatura, carpeta  **src/zero2hero**"
      ],
      "metadata": {
        "id": "NQcY8u2MDSLT"
      }
    },
    {
      "cell_type": "markdown",
      "source": [
        "\n",
        "\n",
        "---\n",
        "\n"
      ],
      "metadata": {
        "id": "GcO0OSiIEAGy"
      }
    },
    {
      "cell_type": "markdown",
      "source": [
        "## 3.  Grid Search"
      ],
      "metadata": {
        "id": "6MStcyn0EBdT"
      }
    },
    {
      "cell_type": "markdown",
      "source": [
        "Busque en internet el precido significado de los hiperparámetros de la librería **rpart**  que está implementando el algoritmo **CART**  Classification and Regression Trees  propuesto en el año 1984 por Leo Brieman:\n",
        "\n",
        "*   cp\n",
        "*   maxdepth\n",
        "*   minsplit\n",
        "*   minbucket\n",
        "\n",
        "Entienda que valores es razonable tome cada hiperparámetro,  en particular profundice en el hiperparámetro  **cp**  y la posibilidad que tome valores negativos.  Es válido consultar a su amigo de *capacidades especiales*  ChatGPT\n"
      ],
      "metadata": {
        "id": "gM8RKXDgEIY0"
      }
    },
    {
      "cell_type": "markdown",
      "source": [
        "En las siguientes celdas a un notebook incompleto, un esqueleto de codigo brindado a modo de facilitarle la tarea de codeo y permitir que su valiosa cognición se concentre temas conceptuales de Ciencia de Datos\n",
        "\n",
        "Modifiquelo agregando loops para que recorra TODOS los hiperparámetros de rpart  < cp, maxdepth, minsplit, minbucket >, y luego póngalo a correr. Recuerde cambiar por SU semilla\n",
        "Tenga muy presente la granularidad que eligirá para cada hiperparámetro."
      ],
      "metadata": {
        "id": "_k7eT3HIFy9y"
      }
    },
    {
      "cell_type": "markdown",
      "source": [
        "### Seteo del ambiente en Google Colab"
      ],
      "metadata": {
        "id": "kmLygy1TYPfg"
      }
    },
    {
      "cell_type": "markdown",
      "source": [
        "Esta parte se debe correr con el runtime en Python3\n",
        "<br>Ir al menu, Runtime -> Change Runtime Tipe -> Runtime type ->  **Python 3**"
      ],
      "metadata": {
        "id": "OikOm5K2YU3X"
      }
    },
    {
      "cell_type": "markdown",
      "source": [
        "Conectar la virtual machine donde esta corriendo Google Colab con el  Google Drive, para poder tener persistencia de archivos"
      ],
      "metadata": {
        "id": "4fmV5LyZdFyI"
      }
    },
    {
      "cell_type": "code",
      "source": [
        "# primero establecer el Runtime de Python 3\n",
        "from google.colab import drive\n",
        "drive.mount('/content/.drive')"
      ],
      "metadata": {
        "id": "ilEZ-bE2VybW",
        "outputId": "98090461-6b6e-4480-fd33-8f7c7551336e",
        "colab": {
          "base_uri": "https://localhost:8080/"
        }
      },
      "execution_count": 5,
      "outputs": [
        {
          "output_type": "stream",
          "name": "stdout",
          "text": [
            "Drive already mounted at /content/.drive; to attempt to forcibly remount, call drive.mount(\"/content/.drive\", force_remount=True).\n"
          ]
        }
      ]
    },
    {
      "cell_type": "markdown",
      "source": [],
      "metadata": {
        "id": "l0SszeCpdpPD"
      }
    },
    {
      "cell_type": "markdown",
      "source": [],
      "metadata": {
        "id": "GIg8u0TmdpNF"
      }
    },
    {
      "cell_type": "markdown",
      "source": [],
      "metadata": {
        "id": "li9Gjo5zdpK6"
      }
    },
    {
      "cell_type": "markdown",
      "source": [
        "Para correr la siguiente celda es fundamental en Arranque en Frio haber copiado el archivo kaggle.json al Google Drive, en la carpeta indicada en el instructivo\n",
        "\n",
        "<br>los siguientes comando estan en shell script de Linux\n",
        "*   Crear las carpetas en el Google Drive\n",
        "*   \"instalar\" el archivo kaggle.json desde el Google Drive a la virtual machine para que pueda ser utilizado por la libreria  kaggle de Python\n",
        "*   Bajar el  **dataset_pequeno**  al  Google Drive  y tambien al disco local de la virtual machine que esta corriendo Google Colab\n",
        "\n"
      ],
      "metadata": {
        "id": "ilaKtqWldeWg"
      }
    },
    {
      "cell_type": "code",
      "source": [
        "from google.colab import files\n",
        "import shutil\n",
        "\n",
        "print(\"Selecciona tu archivo kaggle.json:\")\n",
        "uploaded = files.upload()\n",
        "\n",
        "# Copiar a Drive\n",
        "import os\n",
        "kaggle_filename = list(uploaded.keys())[0]\n",
        "destination = \"/content/.drive/My Drive/labo1/kaggle/kaggle.json\"\n",
        "\n",
        "shutil.copy(kaggle_filename, destination)\n",
        "os.chmod(destination, 0o600)\n",
        "\n",
        "print(f\"✓ Archivo subido correctamente a: {destination}\")\n",
        "\n",
        "# Verificar\n",
        "print(\"\\nVerificando...\")\n",
        "if os.path.exists(destination):\n",
        "    print(\"✓ kaggle.json confirmado en Drive\")\n",
        "else:\n",
        "    print(\"✗ Error: archivo no encontrado\")"
      ],
      "metadata": {
        "id": "xj6Zqz-HeIcJ",
        "outputId": "97428455-e3fe-4377-973b-7945868d8a9e",
        "colab": {
          "base_uri": "https://localhost:8080/",
          "height": 160
        }
      },
      "execution_count": 9,
      "outputs": [
        {
          "output_type": "stream",
          "name": "stdout",
          "text": [
            "Selecciona tu archivo kaggle.json:\n"
          ]
        },
        {
          "output_type": "display_data",
          "data": {
            "text/plain": [
              "<IPython.core.display.HTML object>"
            ],
            "text/html": [
              "\n",
              "     <input type=\"file\" id=\"files-dbe38d5b-6c2b-42f4-b178-737dc1546e10\" name=\"files[]\" multiple disabled\n",
              "        style=\"border:none\" />\n",
              "     <output id=\"result-dbe38d5b-6c2b-42f4-b178-737dc1546e10\">\n",
              "      Upload widget is only available when the cell has been executed in the\n",
              "      current browser session. Please rerun this cell to enable.\n",
              "      </output>\n",
              "      <script>// Copyright 2017 Google LLC\n",
              "//\n",
              "// Licensed under the Apache License, Version 2.0 (the \"License\");\n",
              "// you may not use this file except in compliance with the License.\n",
              "// You may obtain a copy of the License at\n",
              "//\n",
              "//      http://www.apache.org/licenses/LICENSE-2.0\n",
              "//\n",
              "// Unless required by applicable law or agreed to in writing, software\n",
              "// distributed under the License is distributed on an \"AS IS\" BASIS,\n",
              "// WITHOUT WARRANTIES OR CONDITIONS OF ANY KIND, either express or implied.\n",
              "// See the License for the specific language governing permissions and\n",
              "// limitations under the License.\n",
              "\n",
              "/**\n",
              " * @fileoverview Helpers for google.colab Python module.\n",
              " */\n",
              "(function(scope) {\n",
              "function span(text, styleAttributes = {}) {\n",
              "  const element = document.createElement('span');\n",
              "  element.textContent = text;\n",
              "  for (const key of Object.keys(styleAttributes)) {\n",
              "    element.style[key] = styleAttributes[key];\n",
              "  }\n",
              "  return element;\n",
              "}\n",
              "\n",
              "// Max number of bytes which will be uploaded at a time.\n",
              "const MAX_PAYLOAD_SIZE = 100 * 1024;\n",
              "\n",
              "function _uploadFiles(inputId, outputId) {\n",
              "  const steps = uploadFilesStep(inputId, outputId);\n",
              "  const outputElement = document.getElementById(outputId);\n",
              "  // Cache steps on the outputElement to make it available for the next call\n",
              "  // to uploadFilesContinue from Python.\n",
              "  outputElement.steps = steps;\n",
              "\n",
              "  return _uploadFilesContinue(outputId);\n",
              "}\n",
              "\n",
              "// This is roughly an async generator (not supported in the browser yet),\n",
              "// where there are multiple asynchronous steps and the Python side is going\n",
              "// to poll for completion of each step.\n",
              "// This uses a Promise to block the python side on completion of each step,\n",
              "// then passes the result of the previous step as the input to the next step.\n",
              "function _uploadFilesContinue(outputId) {\n",
              "  const outputElement = document.getElementById(outputId);\n",
              "  const steps = outputElement.steps;\n",
              "\n",
              "  const next = steps.next(outputElement.lastPromiseValue);\n",
              "  return Promise.resolve(next.value.promise).then((value) => {\n",
              "    // Cache the last promise value to make it available to the next\n",
              "    // step of the generator.\n",
              "    outputElement.lastPromiseValue = value;\n",
              "    return next.value.response;\n",
              "  });\n",
              "}\n",
              "\n",
              "/**\n",
              " * Generator function which is called between each async step of the upload\n",
              " * process.\n",
              " * @param {string} inputId Element ID of the input file picker element.\n",
              " * @param {string} outputId Element ID of the output display.\n",
              " * @return {!Iterable<!Object>} Iterable of next steps.\n",
              " */\n",
              "function* uploadFilesStep(inputId, outputId) {\n",
              "  const inputElement = document.getElementById(inputId);\n",
              "  inputElement.disabled = false;\n",
              "\n",
              "  const outputElement = document.getElementById(outputId);\n",
              "  outputElement.innerHTML = '';\n",
              "\n",
              "  const pickedPromise = new Promise((resolve) => {\n",
              "    inputElement.addEventListener('change', (e) => {\n",
              "      resolve(e.target.files);\n",
              "    });\n",
              "  });\n",
              "\n",
              "  const cancel = document.createElement('button');\n",
              "  inputElement.parentElement.appendChild(cancel);\n",
              "  cancel.textContent = 'Cancel upload';\n",
              "  const cancelPromise = new Promise((resolve) => {\n",
              "    cancel.onclick = () => {\n",
              "      resolve(null);\n",
              "    };\n",
              "  });\n",
              "\n",
              "  // Wait for the user to pick the files.\n",
              "  const files = yield {\n",
              "    promise: Promise.race([pickedPromise, cancelPromise]),\n",
              "    response: {\n",
              "      action: 'starting',\n",
              "    }\n",
              "  };\n",
              "\n",
              "  cancel.remove();\n",
              "\n",
              "  // Disable the input element since further picks are not allowed.\n",
              "  inputElement.disabled = true;\n",
              "\n",
              "  if (!files) {\n",
              "    return {\n",
              "      response: {\n",
              "        action: 'complete',\n",
              "      }\n",
              "    };\n",
              "  }\n",
              "\n",
              "  for (const file of files) {\n",
              "    const li = document.createElement('li');\n",
              "    li.append(span(file.name, {fontWeight: 'bold'}));\n",
              "    li.append(span(\n",
              "        `(${file.type || 'n/a'}) - ${file.size} bytes, ` +\n",
              "        `last modified: ${\n",
              "            file.lastModifiedDate ? file.lastModifiedDate.toLocaleDateString() :\n",
              "                                    'n/a'} - `));\n",
              "    const percent = span('0% done');\n",
              "    li.appendChild(percent);\n",
              "\n",
              "    outputElement.appendChild(li);\n",
              "\n",
              "    const fileDataPromise = new Promise((resolve) => {\n",
              "      const reader = new FileReader();\n",
              "      reader.onload = (e) => {\n",
              "        resolve(e.target.result);\n",
              "      };\n",
              "      reader.readAsArrayBuffer(file);\n",
              "    });\n",
              "    // Wait for the data to be ready.\n",
              "    let fileData = yield {\n",
              "      promise: fileDataPromise,\n",
              "      response: {\n",
              "        action: 'continue',\n",
              "      }\n",
              "    };\n",
              "\n",
              "    // Use a chunked sending to avoid message size limits. See b/62115660.\n",
              "    let position = 0;\n",
              "    do {\n",
              "      const length = Math.min(fileData.byteLength - position, MAX_PAYLOAD_SIZE);\n",
              "      const chunk = new Uint8Array(fileData, position, length);\n",
              "      position += length;\n",
              "\n",
              "      const base64 = btoa(String.fromCharCode.apply(null, chunk));\n",
              "      yield {\n",
              "        response: {\n",
              "          action: 'append',\n",
              "          file: file.name,\n",
              "          data: base64,\n",
              "        },\n",
              "      };\n",
              "\n",
              "      let percentDone = fileData.byteLength === 0 ?\n",
              "          100 :\n",
              "          Math.round((position / fileData.byteLength) * 100);\n",
              "      percent.textContent = `${percentDone}% done`;\n",
              "\n",
              "    } while (position < fileData.byteLength);\n",
              "  }\n",
              "\n",
              "  // All done.\n",
              "  yield {\n",
              "    response: {\n",
              "      action: 'complete',\n",
              "    }\n",
              "  };\n",
              "}\n",
              "\n",
              "scope.google = scope.google || {};\n",
              "scope.google.colab = scope.google.colab || {};\n",
              "scope.google.colab._files = {\n",
              "  _uploadFiles,\n",
              "  _uploadFilesContinue,\n",
              "};\n",
              "})(self);\n",
              "</script> "
            ]
          },
          "metadata": {}
        },
        {
          "output_type": "stream",
          "name": "stdout",
          "text": [
            "Saving kaggle.json to kaggle.json\n",
            "✓ Archivo subido correctamente a: /content/.drive/My Drive/labo1/kaggle/kaggle.json\n",
            "\n",
            "Verificando...\n",
            "✓ kaggle.json confirmado en Drive\n"
          ]
        }
      ]
    },
    {
      "cell_type": "code",
      "source": [
        "%%shell\n",
        "\n",
        "# Crear carpetas en Google Drive (solo si no existen)\n",
        "mkdir -p \"/content/.drive/My Drive/labo1\"\n",
        "mkdir -p \"/content/buckets\"\n",
        "\n",
        "# Eliminar symlink solo si existe (para evitar errores)\n",
        "if [ -L /content/buckets/b1 ]; then\n",
        "  rm /content/buckets/b1\n",
        "fi\n",
        "\n",
        "# Crear el symlink\n",
        "ln -s \"/content/.drive/My Drive/labo1\" /content/buckets/b1\n",
        "\n",
        "# Configurar kaggle.json solo si existe en Drive\n",
        "if [ -f \"/content/buckets/b1/kaggle/kaggle.json\" ]; then\n",
        "  mkdir -p ~/.kaggle\n",
        "  cp /content/buckets/b1/kaggle/kaggle.json ~/.kaggle\n",
        "  chmod 600 ~/.kaggle/kaggle.json\n",
        "  echo \"✓ kaggle.json configurado correctamente\"\n",
        "else\n",
        "  echo \"⚠ Advertencia: kaggle.json no encontrado en Drive\"\n",
        "fi\n",
        "\n",
        "# Crear carpetas necesarias (solo si no existen)\n",
        "mkdir -p /content/buckets/b1/exp\n",
        "mkdir -p /content/buckets/b1/datasets\n",
        "mkdir -p /content/datasets\n",
        "\n",
        "# Descargar dataset solo si no existe\n",
        "archivo_origen=\"https://storage.googleapis.com/open-courses/austral2025-af91/dataset_pequeno.csv\"\n",
        "archivo_destino=\"/content/datasets/dataset_pequeno.csv\"\n",
        "archivo_destino_bucket=\"/content/buckets/b1/datasets/dataset_pequeno.csv\"\n",
        "\n",
        "if ! test -f \"$archivo_destino_bucket\"; then\n",
        "  echo \"Descargando dataset a Google Drive...\"\n",
        "  wget \"$archivo_origen\" -O \"$archivo_destino_bucket\"\n",
        "else\n",
        "  echo \"✓ Dataset ya existe en Drive, omitiendo descarga\"\n",
        "fi\n",
        "\n",
        "# Copiar a disco local solo si no existe\n",
        "if ! test -f \"$archivo_destino\"; then\n",
        "  echo \"Copiando dataset al disco local...\"\n",
        "  cp \"$archivo_destino_bucket\" \"$archivo_destino\"\n",
        "else\n",
        "  echo \"✓ Dataset ya existe en disco local\"\n",
        "fi\n",
        "\n",
        "echo \"✓ Script completado exitosamente\""
      ],
      "metadata": {
        "id": "W8dQFI5QYCFa",
        "colab": {
          "base_uri": "https://localhost:8080/"
        },
        "outputId": "ea4b710f-a9ac-46ed-9161-b6b8b9eb7f9c"
      },
      "execution_count": 10,
      "outputs": [
        {
          "output_type": "stream",
          "name": "stdout",
          "text": [
            "✓ kaggle.json configurado correctamente\n",
            "✓ Dataset ya existe en Drive, omitiendo descarga\n",
            "✓ Dataset ya existe en disco local\n",
            "✓ Script completado exitosamente\n"
          ]
        },
        {
          "output_type": "execute_result",
          "data": {
            "text/plain": []
          },
          "metadata": {},
          "execution_count": 10
        }
      ]
    },
    {
      "cell_type": "markdown",
      "source": [
        "limpio el ambiente de R"
      ],
      "metadata": {
        "id": "SE94XRhWsxkX"
      }
    },
    {
      "cell_type": "code",
      "source": [
        "# limpio la memoria\n",
        "rm(list=ls(all.names=TRUE)) # remove all objects\n",
        "gc(full=TRUE, verbose=FALSE) # garbage collection"
      ],
      "metadata": {
        "id": "oZG_4br6szlT",
        "outputId": "7b4302e8-07e8-4ac0-c0bd-8c5b0acf64e0",
        "colab": {
          "base_uri": "https://localhost:8080/",
          "height": 129
        }
      },
      "execution_count": 1,
      "outputs": [
        {
          "output_type": "display_data",
          "data": {
            "text/html": [
              "<table class=\"dataframe\">\n",
              "<caption>A matrix: 2 × 6 of type dbl</caption>\n",
              "<thead>\n",
              "\t<tr><th></th><th scope=col>used</th><th scope=col>(Mb)</th><th scope=col>gc trigger</th><th scope=col>(Mb)</th><th scope=col>max used</th><th scope=col>(Mb)</th></tr>\n",
              "</thead>\n",
              "<tbody>\n",
              "\t<tr><th scope=row>Ncells</th><td> 657248</td><td>35.2</td><td>1454474</td><td>77.7</td><td>1367421</td><td>73.1</td></tr>\n",
              "\t<tr><th scope=row>Vcells</th><td>1220277</td><td> 9.4</td><td>8388608</td><td>64.0</td><td>1975127</td><td>15.1</td></tr>\n",
              "</tbody>\n",
              "</table>\n"
            ],
            "text/markdown": "\nA matrix: 2 × 6 of type dbl\n\n| <!--/--> | used | (Mb) | gc trigger | (Mb) | max used | (Mb) |\n|---|---|---|---|---|---|---|\n| Ncells |  657248 | 35.2 | 1454474 | 77.7 | 1367421 | 73.1 |\n| Vcells | 1220277 |  9.4 | 8388608 | 64.0 | 1975127 | 15.1 |\n\n",
            "text/latex": "A matrix: 2 × 6 of type dbl\n\\begin{tabular}{r|llllll}\n  & used & (Mb) & gc trigger & (Mb) & max used & (Mb)\\\\\n\\hline\n\tNcells &  657248 & 35.2 & 1454474 & 77.7 & 1367421 & 73.1\\\\\n\tVcells & 1220277 &  9.4 & 8388608 & 64.0 & 1975127 & 15.1\\\\\n\\end{tabular}\n",
            "text/plain": [
              "       used    (Mb) gc trigger (Mb) max used (Mb)\n",
              "Ncells  657248 35.2 1454474    77.7 1367421  73.1\n",
              "Vcells 1220277  9.4 8388608    64.0 1975127  15.1"
            ]
          },
          "metadata": {}
        }
      ]
    },
    {
      "cell_type": "code",
      "source": [
        "# cargo las librerias que necesito\n",
        "require(\"data.table\")\n",
        "require(\"rpart\")\n",
        "require(\"parallel\")\n",
        "if (!require(\"primes\")) install.packages(\"primes\")\n",
        "require(\"primes\")"
      ],
      "metadata": {
        "id": "JO-12d7YHkWy",
        "outputId": "2ebf2915-7b6a-49b4-8146-03c9b322d712",
        "colab": {
          "base_uri": "https://localhost:8080/"
        }
      },
      "execution_count": 2,
      "outputs": [
        {
          "output_type": "stream",
          "name": "stderr",
          "text": [
            "Loading required package: data.table\n",
            "\n",
            "Loading required package: rpart\n",
            "\n",
            "Loading required package: parallel\n",
            "\n",
            "Loading required package: primes\n",
            "\n",
            "Warning message in library(package, lib.loc = lib.loc, character.only = TRUE, logical.return = TRUE, :\n",
            "“there is no package called ‘primes’”\n",
            "Installing package into ‘/usr/local/lib/R/site-library’\n",
            "(as ‘lib’ is unspecified)\n",
            "\n",
            "Loading required package: primes\n",
            "\n"
          ]
        }
      ]
    },
    {
      "cell_type": "markdown",
      "source": [
        "Aqui debe poner SU semiila primigenia"
      ],
      "metadata": {
        "id": "0MclPEJ6Q8Bp"
      }
    },
    {
      "cell_type": "code",
      "source": [
        "PARAM <- list()\n",
        "# reemplazar por su primer semilla\n",
        "PARAM$semilla_primigenia <- 153929\n",
        "PARAM$qsemillas <- 1\n",
        "\n",
        "PARAM$training_pct <- 70L  # entre  1L y 99L\n",
        "\n",
        "# elegir SU dataset comentando/ descomentando\n",
        "PARAM$dataset_nom <- \"~/datasets/dataset_pequeno.csv\""
      ],
      "metadata": {
        "id": "Vt5fC6bWHu5r"
      },
      "execution_count": 4,
      "outputs": []
    },
    {
      "cell_type": "code",
      "source": [
        "# particionar agrega una columna llamada fold a un dataset\n",
        "#  que consiste en una particion estratificada segun agrupa\n",
        "# particionar( data=dataset, division=c(70,30), agrupa=clase_ternaria, seed=semilla)\n",
        "#   crea una particion 70, 30\n",
        "\n",
        "particionar <- function(data, division, agrupa = \"\", campo = \"fold\", start = 1, seed = NA) {\n",
        "  if (!is.na(seed)) set.seed(seed)\n",
        "\n",
        "  bloque <- unlist(mapply(function(x, y) {\n",
        "    rep(y, x)\n",
        "  }, division, seq(from = start, length.out = length(division))))\n",
        "\n",
        "  data[, (campo) := sample(rep(bloque, ceiling(.N / length(bloque))))[1:.N],\n",
        "    by = agrupa\n",
        "  ]\n",
        "}\n"
      ],
      "metadata": {
        "id": "Z1dchsrWH4MD"
      },
      "execution_count": 5,
      "outputs": []
    },
    {
      "cell_type": "code",
      "source": [
        "ArbolEstimarGanancia <- function(semilla, training_pct, param_basicos) {\n",
        "  # particiono estratificadamente el dataset\n",
        "  particionar(dataset,\n",
        "    division = c(training_pct, 100L -training_pct),\n",
        "    agrupa = \"clase_ternaria\",\n",
        "    seed = semilla # aqui se usa SU semilla\n",
        "  )\n",
        "\n",
        "  # genero el modelo\n",
        "  # predecir clase_ternaria a partir del resto\n",
        "  modelo <- rpart(\"clase_ternaria ~ .\",\n",
        "    data = dataset[fold == 1], # fold==1  es training,  el 70% de los datos\n",
        "    xval = 0,\n",
        "    control = param_basicos\n",
        "  ) # aqui van los parametros del arbol\n",
        "\n",
        "  # aplico el modelo a los datos de testing\n",
        "  prediccion <- predict(modelo, # el modelo que genere recien\n",
        "    dataset[fold == 2], # fold==2  es testing, el 30% de los datos\n",
        "    type = \"prob\"\n",
        "  ) # type= \"prob\"  es que devuelva la probabilidad\n",
        "\n",
        "  # prediccion es una matriz con TRES columnas,\n",
        "  #  llamadas \"BAJA+1\", \"BAJA+2\"  y \"CONTINUA\"\n",
        "  # cada columna es el vector de probabilidades\n",
        "\n",
        "\n",
        "  # calculo la ganancia en testing  qu es fold==2\n",
        "  ganancia_test <- dataset[\n",
        "    fold == 2,\n",
        "    sum(ifelse(prediccion[, \"BAJA+2\"] > 0.025,\n",
        "      ifelse(clase_ternaria == \"BAJA+2\", 117000, -3000),\n",
        "      0\n",
        "    ))\n",
        "  ]\n",
        "\n",
        "  # escalo la ganancia como si fuera todo el dataset\n",
        "  ganancia_test_normalizada <- ganancia_test / (( 100 - PARAM$training_pct ) / 100 )\n",
        "\n",
        "  return(\n",
        "    c( list(\"semilla\" = semilla),\n",
        "      param_basicos,\n",
        "      list( \"ganancia_test\" = ganancia_test_normalizada )\n",
        "     )\n",
        "  )\n",
        "}\n"
      ],
      "metadata": {
        "id": "xsHwS1CzIA70"
      },
      "execution_count": 6,
      "outputs": []
    },
    {
      "cell_type": "code",
      "source": [
        "ArbolesMontecarlo <- function(semillas, param_basicos) {\n",
        "\n",
        "  # la funcion mcmapply  llama a la funcion ArbolEstimarGanancia\n",
        "  #  tantas veces como valores tenga el vector  PARAM$semillas\n",
        "  salida <- mcmapply(ArbolEstimarGanancia,\n",
        "    semillas, # paso el vector de semillas\n",
        "    MoreArgs = list(PARAM$training_pct, param_basicos), # aqui paso el segundo parametro\n",
        "    SIMPLIFY = FALSE,\n",
        "    mc.cores = detectCores()\n",
        "  )\n",
        "\n",
        "  return(salida)\n",
        "}\n"
      ],
      "metadata": {
        "id": "BvBVOuhqIEjD"
      },
      "execution_count": 7,
      "outputs": []
    },
    {
      "cell_type": "code",
      "source": [
        "# carpeta de trabajo\n",
        "# por fabor cambiar numero de experimento si se cambia el loop principal\n",
        "setwd(\"/content/buckets/b1/exp\")\n",
        "experimento <- \"HT2900\"\n",
        "dir.create(experimento, showWarnings=FALSE)\n",
        "setwd( paste0(\"/content/buckets/b1/exp/\", experimento ))"
      ],
      "metadata": {
        "id": "L-DOGHOjIG7G"
      },
      "execution_count": 8,
      "outputs": []
    },
    {
      "cell_type": "code",
      "source": [
        "# lectura del dataset\n",
        "dataset <- fread(\"/content/datasets/dataset_pequeno.csv\")\n",
        "\n",
        "# trabajo solo con los datos con clase, es decir 202107\n",
        "dataset <- dataset[clase_ternaria != \"\"]"
      ],
      "metadata": {
        "id": "NM-mrLWcIPo6"
      },
      "execution_count": 9,
      "outputs": []
    },
    {
      "cell_type": "code",
      "source": [
        "\n",
        "# genero numeros primos\n",
        "primos <- generate_primes(min = 100000, max = 1000000)\n",
        "set.seed(PARAM$semilla_primigenia) # inicializo\n",
        "# me quedo con PARAM$qsemillas   semillas\n",
        "PARAM$semillas <- sample(primos, PARAM$qsemillas )\n"
      ],
      "metadata": {
        "id": "tSlY0EcgIWdi"
      },
      "execution_count": 10,
      "outputs": []
    },
    {
      "cell_type": "code",
      "source": [
        "# genero la data.table donde van los resultados detallados del Grid Search\n",
        "# un registro para cada combinacion de < semilla, parametros >\n",
        "\n",
        "if(file.exists(\"gridsearch_detalle.txt\")){\n",
        "  tb_grid_search_detalle <- fread(\"gridsearch_detalle.txt\")\n",
        "}else{\n",
        "  tb_grid_search_detalle <- data.table(\n",
        "    semilla = integer(),\n",
        "    cp = numeric(),\n",
        "    maxdepth = integer(),\n",
        "   minsplit = integer(),\n",
        "    minbucket = integer(),\n",
        "    ganancia_test = numeric()\n",
        "  )\n",
        "}\n",
        "\n",
        "nrow( tb_grid_search_detalle )"
      ],
      "metadata": {
        "id": "xxCAwIKyIaTl",
        "outputId": "9c18d1ea-dd1e-4abc-9a29-42c772290a94",
        "colab": {
          "base_uri": "https://localhost:8080/",
          "height": 34
        }
      },
      "execution_count": 11,
      "outputs": [
        {
          "output_type": "display_data",
          "data": {
            "text/html": [
              "0"
            ],
            "text/markdown": "0",
            "text/latex": "0",
            "text/plain": [
              "[1] 0"
            ]
          },
          "metadata": {}
        }
      ]
    },
    {
      "cell_type": "markdown",
      "source": [
        "Esta es la parte del código que usted debe expandir a TODOS los hiperparámetros de rpart,\n",
        "<br>ya que actualmente apenas recorre  maxdepth y  minsplit  dejando fijos  cp=-0.5  y minbucket=5"
      ],
      "metadata": {
        "id": "eAuGBNL8IkOD"
      }
    },
    {
      "cell_type": "code",
      "source": [
        "# itero por los loops anidados para cada hiperparametro\n",
        "iter <- 0\n",
        "\n",
        "for (vcp in c(-1, -0.5, -0.25, 0, 0.01, 0.02, 0.05)) {\n",
        "  for (vmax_depth in c(4, 6, 8, 10, 12, 14)) {\n",
        "    for (vmin_split in c(1000, 800, 600, 400, 200, 100, 50, 20, 10)) {\n",
        "      for (vmin_bucket in c(1, 5, 10, 15, 20, 30, 50)) {\n",
        "\n",
        "        iter <- iter + 1\n",
        "        cat( iter, \" \" )\n",
        "        flush.console()\n",
        "        if( iter*PARAM$qsemillas < nrow(tb_grid_search_detalle)+1 ) next\n",
        "\n",
        "        # Defino los parámetros para esta iteración\n",
        "        param_basicos <- list(\n",
        "          \"cp\" = vcp,              # complejidad minima\n",
        "          \"maxdepth\" = vmax_depth, # profundidad máxima del arbol\n",
        "          \"minsplit\" = vmin_split, # tamaño minimo de nodo para hacer split\n",
        "          \"minbucket\" = vmin_bucket # minima cantidad de registros en una hoja\n",
        "        )\n",
        "\n",
        "        # Un solo llamado, con las semillas definidas\n",
        "        ganancias <- ArbolesMontecarlo(PARAM$semillas, param_basicos)\n",
        "\n",
        "        # agrego a la tabla\n",
        "        tb_grid_search_detalle <- rbindlist(\n",
        "          list( tb_grid_search_detalle,\n",
        "                rbindlist(ganancias) )\n",
        "        )\n",
        "      }\n",
        "    }\n",
        "  }\n",
        "\n",
        "  # grabo cada vez TODA la tabla en el loop mas externo\n",
        "  fwrite( tb_grid_search_detalle,\n",
        "          file = \"gridsearch_detalle.txt\",\n",
        "          sep = \"\\t\" )\n",
        "}"
      ],
      "metadata": {
        "id": "ipLHm3STIfmb",
        "outputId": "2c34bc54-b6cc-468c-8572-92fdfd87431c",
        "colab": {
          "base_uri": "https://localhost:8080/"
        }
      },
      "execution_count": null,
      "outputs": [
        {
          "output_type": "stream",
          "name": "stdout",
          "text": [
            "1  2  3  4  5  6  7  8  9  10  11  12  13  14  15  16  17  18  19  20  21  22  23  24  25  26  27  28  29  30  31  32  33  34  35  36  37  38  39  40  41  42  43  44  45  46  47  48  49  50  51  52  53  54  55  56  57  58  59  60  61  62  63  64  65  66  67  68  69  70  71  72  73  74  75  "
          ]
        }
      ]
    },
    {
      "cell_type": "code",
      "source": [
        "fwrite( tb_grid_search_detalle,\n",
        "   file = \"gridsearch_detalle.txt\",\n",
        "   sep = \"\\t\"\n",
        ")"
      ],
      "metadata": {
        "id": "WZaSqYBxiDFu"
      },
      "execution_count": null,
      "outputs": []
    },
    {
      "cell_type": "code",
      "source": [
        "# cantidad de registros de la tabla\n",
        "nrow(tb_grid_search_detalle)"
      ],
      "metadata": {
        "id": "STp0duM-RYVJ"
      },
      "execution_count": null,
      "outputs": []
    },
    {
      "cell_type": "code",
      "source": [
        "# muestro la tabla\n",
        "tb_grid_search_detalle"
      ],
      "metadata": {
        "id": "k7fhk_H0iNez"
      },
      "execution_count": null,
      "outputs": []
    },
    {
      "cell_type": "code",
      "source": [
        "# genero y grabo el resumen\n",
        "tb_grid_search <- tb_grid_search_detalle[,\n",
        "  list( \"ganancia_mean\" = mean(ganancia_test),\n",
        "    \"qty\" = .N ),\n",
        "  list( cp, maxdepth, minsplit, minbucket )\n",
        "]\n"
      ],
      "metadata": {
        "id": "DjCxtx8bIsgl"
      },
      "execution_count": null,
      "outputs": []
    },
    {
      "cell_type": "code",
      "source": [
        "# ordeno descendente por ganancia\n",
        "setorder( tb_grid_search, -ganancia_mean )\n"
      ],
      "metadata": {
        "id": "LU29UhL1Ivg5"
      },
      "execution_count": null,
      "outputs": []
    },
    {
      "cell_type": "code",
      "source": [
        "# veo los 10 mejores hiperparámetros\n",
        "tb_grid_search[1:10]"
      ],
      "metadata": {
        "id": "g-EjGY7aIyWL"
      },
      "execution_count": null,
      "outputs": []
    },
    {
      "cell_type": "code",
      "source": [
        "# genero un id a la tabla\n",
        "tb_grid_search[, id := .I ]\n",
        "\n",
        "fwrite( tb_grid_search,\n",
        "  file = \"gridsearch.txt\",\n",
        "  sep = \"\\t\"\n",
        ")\n"
      ],
      "metadata": {
        "id": "K3S-I2PTI5ZE"
      },
      "execution_count": null,
      "outputs": []
    },
    {
      "cell_type": "markdown",
      "source": [
        "# 4.  Análisis de resultados de Grid Search"
      ],
      "metadata": {
        "id": "1rYHk1YkI_9k"
      }
    },
    {
      "cell_type": "markdown",
      "source": [
        "La salida de la corrida anterior queda en ~/buckets/b1/exp/HT2900  que corresponde a su Google Drive\n",
        "<br>HT significa Hyperparameter Tuning\n",
        "<br>El Grid Search es un método de fuerza bruta de un altísimo costo computacional.\n",
        "<br>Queremos ver si es posible crear un algoritmo de optimización de hiperparámetros que se ahorre recorrer ciertas porciones muy malas del espacio de búsqueda. Algo del estilo “cada vez que pruebo una combinación de hiperparámetros donde  cp > 1 , la ganancia es muy mala, con lo cual ni vale la pena perder el tiempo explorando en esa region”\n"
      ],
      "metadata": {
        "id": "ZTJgPhMWJHTk"
      }
    },
    {
      "cell_type": "markdown",
      "source": [
        "<br>Levante el archivo de salida gridsearch.txt  a una planilla tipo Excel y analícelo detenidamente\n",
        "<br>Ordene por ganancia_mean descendente\n",
        "<br>\n",
        "<br>El de mayor ganancia_mean  decimos que es el primero del ranking\n",
        "En Zulip, correspondiente channel  #Tarea Hogar 02 , topic Analisis Grid Search   intente contestar estas preguntas:\n",
        "\n",
        "* ¿Qué combinaciones de hiperparámetros poseen una ganancia muy buena?\n",
        "* ¿Hay algun hiperparámetro que para cierto valor siempre genera una ganancia muy mala, a independientemente de lo que valgan los otros hiperparámetros ?\n",
        "* ¿Que combinaciones de hiperparámetros es pésima y hubiera sido bueno ahorrarse esas corridas ?\n",
        "\n",
        "( tiempo estimado 30 minutos, dificultad media )"
      ],
      "metadata": {
        "id": "IaVgMu4tPwyB"
      }
    }
  ]
}